{
  "nbformat": 4,
  "nbformat_minor": 0,
  "metadata": {
    "accelerator": "GPU",
    "colab": {
      "name": "final_mlp_regressor.ipynb",
      "provenance": [],
      "mount_file_id": "1y5BhoUapmDPtQjB-1U8Y-PPhbfvoGpXT",
      "authorship_tag": "ABX9TyNP5zdPQJhDusX21DxUG7yB",
      "include_colab_link": true
    },
    "kernelspec": {
      "display_name": "Python 3",
      "name": "python3"
    }
  },
  "cells": [
    {
      "cell_type": "markdown",
      "metadata": {
        "id": "view-in-github",
        "colab_type": "text"
      },
      "source": [
        "<a href=\"https://colab.research.google.com/github/bselin/ANN-Applications-MLP-Keras-GRNN-RBF/blob/main/final_mlp.ipynb\" target=\"_parent\"><img src=\"https://colab.research.google.com/assets/colab-badge.svg\" alt=\"Open In Colab\"/></a>"
      ]
    },
    {
      "cell_type": "code",
      "metadata": {
        "colab": {
          "base_uri": "https://localhost:8080/",
          "height": 419
        },
        "id": "2oKRrXyPsVRu",
        "outputId": "dbe34953-7d08-424d-9048-724bc39d6bec"
      },
      "source": [
        "import numpy as np \r\n",
        "import pandas as pd \r\n",
        "import matplotlib.pyplot as plt \r\n",
        "from sklearn.preprocessing import MinMaxScaler\r\n",
        "from sklearn.model_selection import train_test_split\r\n",
        "from sklearn.neural_network import MLPRegressor\r\n",
        "from sklearn.metrics import mean_squared_error \r\n",
        "\r\n",
        "dataset=pd.read_csv('/content/drive/MyDrive/final_istanbul_traffic_hourly - 1.csv',delimiter=',') \r\n",
        "dataset"
      ],
      "execution_count": 10,
      "outputs": [
        {
          "output_type": "execute_result",
          "data": {
            "text/html": [
              "<div>\n",
              "<style scoped>\n",
              "    .dataframe tbody tr th:only-of-type {\n",
              "        vertical-align: middle;\n",
              "    }\n",
              "\n",
              "    .dataframe tbody tr th {\n",
              "        vertical-align: top;\n",
              "    }\n",
              "\n",
              "    .dataframe thead th {\n",
              "        text-align: right;\n",
              "    }\n",
              "</style>\n",
              "<table border=\"1\" class=\"dataframe\">\n",
              "  <thead>\n",
              "    <tr style=\"text-align: right;\">\n",
              "      <th></th>\n",
              "      <th>DATE_TIME</th>\n",
              "      <th>NUMBER_OF_VEHICLES</th>\n",
              "      <th>MINIMUM_SPEED</th>\n",
              "      <th>MAXIMUM_SPEED</th>\n",
              "      <th>AVERAGE_SPEED</th>\n",
              "      <th>NEXT_HOUR_AVG_SPEED</th>\n",
              "    </tr>\n",
              "  </thead>\n",
              "  <tbody>\n",
              "    <tr>\n",
              "      <th>0</th>\n",
              "      <td>2020-09-07 06:00:00</td>\n",
              "      <td>47</td>\n",
              "      <td>8</td>\n",
              "      <td>80</td>\n",
              "      <td>40</td>\n",
              "      <td>30</td>\n",
              "    </tr>\n",
              "    <tr>\n",
              "      <th>1</th>\n",
              "      <td>2020-09-07 07:00:00</td>\n",
              "      <td>81</td>\n",
              "      <td>6</td>\n",
              "      <td>80</td>\n",
              "      <td>30</td>\n",
              "      <td>33</td>\n",
              "    </tr>\n",
              "    <tr>\n",
              "      <th>2</th>\n",
              "      <td>2020-09-07 08:00:00</td>\n",
              "      <td>115</td>\n",
              "      <td>8</td>\n",
              "      <td>80</td>\n",
              "      <td>33</td>\n",
              "      <td>28</td>\n",
              "    </tr>\n",
              "    <tr>\n",
              "      <th>3</th>\n",
              "      <td>2020-09-07 09:00:00</td>\n",
              "      <td>102</td>\n",
              "      <td>6</td>\n",
              "      <td>76</td>\n",
              "      <td>28</td>\n",
              "      <td>32</td>\n",
              "    </tr>\n",
              "    <tr>\n",
              "      <th>4</th>\n",
              "      <td>2020-09-07 10:00:00</td>\n",
              "      <td>106</td>\n",
              "      <td>6</td>\n",
              "      <td>72</td>\n",
              "      <td>32</td>\n",
              "      <td>33</td>\n",
              "    </tr>\n",
              "    <tr>\n",
              "      <th>...</th>\n",
              "      <td>...</td>\n",
              "      <td>...</td>\n",
              "      <td>...</td>\n",
              "      <td>...</td>\n",
              "      <td>...</td>\n",
              "      <td>...</td>\n",
              "    </tr>\n",
              "    <tr>\n",
              "      <th>13304</th>\n",
              "      <td>2020-10-30 13:00:00</td>\n",
              "      <td>85</td>\n",
              "      <td>6</td>\n",
              "      <td>65</td>\n",
              "      <td>22</td>\n",
              "      <td>22</td>\n",
              "    </tr>\n",
              "    <tr>\n",
              "      <th>13305</th>\n",
              "      <td>2020-10-30 14:00:00</td>\n",
              "      <td>89</td>\n",
              "      <td>6</td>\n",
              "      <td>62</td>\n",
              "      <td>22</td>\n",
              "      <td>19</td>\n",
              "    </tr>\n",
              "    <tr>\n",
              "      <th>13306</th>\n",
              "      <td>2020-10-30 15:00:00</td>\n",
              "      <td>77</td>\n",
              "      <td>5</td>\n",
              "      <td>46</td>\n",
              "      <td>19</td>\n",
              "      <td>21</td>\n",
              "    </tr>\n",
              "    <tr>\n",
              "      <th>13307</th>\n",
              "      <td>2020-10-30 16:00:00</td>\n",
              "      <td>81</td>\n",
              "      <td>6</td>\n",
              "      <td>43</td>\n",
              "      <td>21</td>\n",
              "      <td>22</td>\n",
              "    </tr>\n",
              "    <tr>\n",
              "      <th>13308</th>\n",
              "      <td>2020-10-30 17:00:00</td>\n",
              "      <td>68</td>\n",
              "      <td>6</td>\n",
              "      <td>50</td>\n",
              "      <td>22</td>\n",
              "      <td>23</td>\n",
              "    </tr>\n",
              "  </tbody>\n",
              "</table>\n",
              "<p>13309 rows × 6 columns</p>\n",
              "</div>"
            ],
            "text/plain": [
              "                 DATE_TIME  ...  NEXT_HOUR_AVG_SPEED\n",
              "0      2020-09-07 06:00:00  ...                   30\n",
              "1      2020-09-07 07:00:00  ...                   33\n",
              "2      2020-09-07 08:00:00  ...                   28\n",
              "3      2020-09-07 09:00:00  ...                   32\n",
              "4      2020-09-07 10:00:00  ...                   33\n",
              "...                    ...  ...                  ...\n",
              "13304  2020-10-30 13:00:00  ...                   22\n",
              "13305  2020-10-30 14:00:00  ...                   19\n",
              "13306  2020-10-30 15:00:00  ...                   21\n",
              "13307  2020-10-30 16:00:00  ...                   22\n",
              "13308  2020-10-30 17:00:00  ...                   23\n",
              "\n",
              "[13309 rows x 6 columns]"
            ]
          },
          "metadata": {
            "tags": []
          },
          "execution_count": 10
        }
      ]
    },
    {
      "cell_type": "code",
      "metadata": {
        "colab": {
          "base_uri": "https://localhost:8080/",
          "height": 419
        },
        "id": "HNR80ZWo0OD5",
        "outputId": "6ffe81d8-8b87-4c56-da40-b23febf09108"
      },
      "source": [
        "#generate the dataset with the necessary columns only\r\n",
        "dataset=dataset[['MINIMUM_SPEED', 'MAXIMUM_SPEED', 'AVERAGE_SPEED','NUMBER_OF_VEHICLES','NEXT_HOUR_AVG_SPEED']]\r\n",
        "dataset\r\n"
      ],
      "execution_count": 11,
      "outputs": [
        {
          "output_type": "execute_result",
          "data": {
            "text/html": [
              "<div>\n",
              "<style scoped>\n",
              "    .dataframe tbody tr th:only-of-type {\n",
              "        vertical-align: middle;\n",
              "    }\n",
              "\n",
              "    .dataframe tbody tr th {\n",
              "        vertical-align: top;\n",
              "    }\n",
              "\n",
              "    .dataframe thead th {\n",
              "        text-align: right;\n",
              "    }\n",
              "</style>\n",
              "<table border=\"1\" class=\"dataframe\">\n",
              "  <thead>\n",
              "    <tr style=\"text-align: right;\">\n",
              "      <th></th>\n",
              "      <th>MINIMUM_SPEED</th>\n",
              "      <th>MAXIMUM_SPEED</th>\n",
              "      <th>AVERAGE_SPEED</th>\n",
              "      <th>NUMBER_OF_VEHICLES</th>\n",
              "      <th>NEXT_HOUR_AVG_SPEED</th>\n",
              "    </tr>\n",
              "  </thead>\n",
              "  <tbody>\n",
              "    <tr>\n",
              "      <th>0</th>\n",
              "      <td>8</td>\n",
              "      <td>80</td>\n",
              "      <td>40</td>\n",
              "      <td>47</td>\n",
              "      <td>30</td>\n",
              "    </tr>\n",
              "    <tr>\n",
              "      <th>1</th>\n",
              "      <td>6</td>\n",
              "      <td>80</td>\n",
              "      <td>30</td>\n",
              "      <td>81</td>\n",
              "      <td>33</td>\n",
              "    </tr>\n",
              "    <tr>\n",
              "      <th>2</th>\n",
              "      <td>8</td>\n",
              "      <td>80</td>\n",
              "      <td>33</td>\n",
              "      <td>115</td>\n",
              "      <td>28</td>\n",
              "    </tr>\n",
              "    <tr>\n",
              "      <th>3</th>\n",
              "      <td>6</td>\n",
              "      <td>76</td>\n",
              "      <td>28</td>\n",
              "      <td>102</td>\n",
              "      <td>32</td>\n",
              "    </tr>\n",
              "    <tr>\n",
              "      <th>4</th>\n",
              "      <td>6</td>\n",
              "      <td>72</td>\n",
              "      <td>32</td>\n",
              "      <td>106</td>\n",
              "      <td>33</td>\n",
              "    </tr>\n",
              "    <tr>\n",
              "      <th>...</th>\n",
              "      <td>...</td>\n",
              "      <td>...</td>\n",
              "      <td>...</td>\n",
              "      <td>...</td>\n",
              "      <td>...</td>\n",
              "    </tr>\n",
              "    <tr>\n",
              "      <th>13304</th>\n",
              "      <td>6</td>\n",
              "      <td>65</td>\n",
              "      <td>22</td>\n",
              "      <td>85</td>\n",
              "      <td>22</td>\n",
              "    </tr>\n",
              "    <tr>\n",
              "      <th>13305</th>\n",
              "      <td>6</td>\n",
              "      <td>62</td>\n",
              "      <td>22</td>\n",
              "      <td>89</td>\n",
              "      <td>19</td>\n",
              "    </tr>\n",
              "    <tr>\n",
              "      <th>13306</th>\n",
              "      <td>5</td>\n",
              "      <td>46</td>\n",
              "      <td>19</td>\n",
              "      <td>77</td>\n",
              "      <td>21</td>\n",
              "    </tr>\n",
              "    <tr>\n",
              "      <th>13307</th>\n",
              "      <td>6</td>\n",
              "      <td>43</td>\n",
              "      <td>21</td>\n",
              "      <td>81</td>\n",
              "      <td>22</td>\n",
              "    </tr>\n",
              "    <tr>\n",
              "      <th>13308</th>\n",
              "      <td>6</td>\n",
              "      <td>50</td>\n",
              "      <td>22</td>\n",
              "      <td>68</td>\n",
              "      <td>23</td>\n",
              "    </tr>\n",
              "  </tbody>\n",
              "</table>\n",
              "<p>13309 rows × 5 columns</p>\n",
              "</div>"
            ],
            "text/plain": [
              "       MINIMUM_SPEED  MAXIMUM_SPEED  ...  NUMBER_OF_VEHICLES  NEXT_HOUR_AVG_SPEED\n",
              "0                  8             80  ...                  47                   30\n",
              "1                  6             80  ...                  81                   33\n",
              "2                  8             80  ...                 115                   28\n",
              "3                  6             76  ...                 102                   32\n",
              "4                  6             72  ...                 106                   33\n",
              "...              ...            ...  ...                 ...                  ...\n",
              "13304              6             65  ...                  85                   22\n",
              "13305              6             62  ...                  89                   19\n",
              "13306              5             46  ...                  77                   21\n",
              "13307              6             43  ...                  81                   22\n",
              "13308              6             50  ...                  68                   23\n",
              "\n",
              "[13309 rows x 5 columns]"
            ]
          },
          "metadata": {
            "tags": []
          },
          "execution_count": 11
        }
      ]
    },
    {
      "cell_type": "code",
      "metadata": {
        "colab": {
          "base_uri": "https://localhost:8080/"
        },
        "id": "O6Xe5C4Uui2U",
        "outputId": "67e7a791-b82d-4e71-cd4f-222e4642473e"
      },
      "source": [
        "#indexing X as input variables: maximum speed,average speed and number of vehicles at that hour.\r\n",
        "#indexing Y as target variable: next hour's average speed\r\n",
        "X = np.array(dataset.iloc[:,1:4])\r\n",
        "Y = np.array([dataset.iloc[:,4]])\r\n",
        "L = len(dataset)\r\n",
        "Y= Y[:,0:L]\r\n",
        "print('initial shapes of the input and output: \\n ' ,X.shape,Y.shape)\r\n",
        "Y = np.transpose(Y)\r\n",
        "#final X and Y\r\n",
        "print('final shapes of the input and output: \\n' , X.shape,Y.shape)\r\n",
        "print('input: \\n', X, '\\n target: \\n ',Y)"
      ],
      "execution_count": 12,
      "outputs": [
        {
          "output_type": "stream",
          "text": [
            "initial shapes of the input and output: \n",
            "  (13309, 3) (1, 13309)\n",
            "final shapes of the input and output: \n",
            " (13309, 3) (13309, 1)\n",
            "input: \n",
            " [[ 80  40  47]\n",
            " [ 80  30  81]\n",
            " [ 80  33 115]\n",
            " ...\n",
            " [ 46  19  77]\n",
            " [ 43  21  81]\n",
            " [ 50  22  68]] \n",
            " target: \n",
            "  [[30]\n",
            " [33]\n",
            " [28]\n",
            " ...\n",
            " [21]\n",
            " [22]\n",
            " [23]]\n"
          ],
          "name": "stdout"
        }
      ]
    },
    {
      "cell_type": "code",
      "metadata": {
        "colab": {
          "base_uri": "https://localhost:8080/"
        },
        "id": "9MiaU3os1GWT",
        "outputId": "3bee38e3-e7b5-4cf5-c89f-5c555f17145a"
      },
      "source": [
        "#scaling the input and output to train the model correct \r\n",
        "scaler = MinMaxScaler()\r\n",
        "scaler.fit(X)\r\n",
        "X = scaler.transform(X)\r\n",
        " \r\n",
        "\r\n",
        "print(X,Y)"
      ],
      "execution_count": 13,
      "outputs": [
        {
          "output_type": "stream",
          "text": [
            "[[0.33333333 0.4057971  0.07100592]\n",
            " [0.33333333 0.26086957 0.13806706]\n",
            " [0.33333333 0.30434783 0.20512821]\n",
            " ...\n",
            " [0.06349206 0.10144928 0.13017751]\n",
            " [0.03968254 0.13043478 0.13806706]\n",
            " [0.0952381  0.14492754 0.11242604]] [[30]\n",
            " [33]\n",
            " [28]\n",
            " ...\n",
            " [21]\n",
            " [22]\n",
            " [23]]\n"
          ],
          "name": "stdout"
        }
      ]
    },
    {
      "cell_type": "code",
      "metadata": {
        "id": "UoIP7etK-2Jw"
      },
      "source": [
        "X_train, X_test, Y_train, Y_test = train_test_split(X, Y, test_size = 0.3,random_state=0)"
      ],
      "execution_count": 14,
      "outputs": []
    },
    {
      "cell_type": "code",
      "metadata": {
        "colab": {
          "base_uri": "https://localhost:8080/"
        },
        "id": "U_-CUYu-5Ibt",
        "outputId": "8d07fbef-4fb7-4533-cdb8-0ef4eb9dd558"
      },
      "source": [
        "from sklearn.model_selection import GridSearchCV\r\n",
        "\r\n",
        "model = MLPRegressor(max_iter=100)\r\n",
        "\r\n",
        "param_grid = {\"hidden_layer_sizes\": [(128,64),(10,15)], \"activation\": [\"identity\", \"logistic\", \"tanh\", \"relu\"], \"solver\": [\"adam\"], \"alpha\": [0.00005,0.05,0.0005]}\r\n",
        "grid = GridSearchCV(estimator=model, param_grid=param_grid, scoring='neg_mean_squared_error', n_jobs=-1, cv=3)\r\n",
        "grid_result = grid.fit(X, Y)\r\n",
        "# summarize results\r\n",
        "print(\"Best: %f using %s\" % (grid_result.best_score_, grid_result.best_params_))\r\n",
        "means = grid_result.cv_results_['mean_test_score']\r\n",
        "stds = grid_result.cv_results_['std_test_score']\r\n",
        "params = grid_result.cv_results_['params']\r\n",
        "for mean, stdev, param in zip(means, stds, params):\r\n",
        "    print(\"%f (%f) with: %r\" % (mean, stdev, param))"
      ],
      "execution_count": 15,
      "outputs": [
        {
          "output_type": "stream",
          "text": [
            "/usr/local/lib/python3.6/dist-packages/sklearn/neural_network/_multilayer_perceptron.py:1342: DataConversionWarning: A column-vector y was passed when a 1d array was expected. Please change the shape of y to (n_samples, ), for example using ravel().\n",
            "  y = column_or_1d(y, warn=True)\n"
          ],
          "name": "stderr"
        },
        {
          "output_type": "stream",
          "text": [
            "Best: -11.624670 using {'activation': 'relu', 'alpha': 5e-05, 'hidden_layer_sizes': (128, 64), 'solver': 'adam'}\n",
            "-12.376549 (1.528693) with: {'activation': 'identity', 'alpha': 5e-05, 'hidden_layer_sizes': (128, 64), 'solver': 'adam'}\n",
            "-12.273378 (1.383479) with: {'activation': 'identity', 'alpha': 5e-05, 'hidden_layer_sizes': (10, 15), 'solver': 'adam'}\n",
            "-12.309201 (1.486750) with: {'activation': 'identity', 'alpha': 0.05, 'hidden_layer_sizes': (128, 64), 'solver': 'adam'}\n",
            "-12.264970 (1.381371) with: {'activation': 'identity', 'alpha': 0.05, 'hidden_layer_sizes': (10, 15), 'solver': 'adam'}\n",
            "-12.463064 (1.527765) with: {'activation': 'identity', 'alpha': 0.0005, 'hidden_layer_sizes': (128, 64), 'solver': 'adam'}\n",
            "-12.330036 (1.451902) with: {'activation': 'identity', 'alpha': 0.0005, 'hidden_layer_sizes': (10, 15), 'solver': 'adam'}\n",
            "-14.521406 (1.777612) with: {'activation': 'logistic', 'alpha': 5e-05, 'hidden_layer_sizes': (128, 64), 'solver': 'adam'}\n",
            "-79.918061 (2.970445) with: {'activation': 'logistic', 'alpha': 5e-05, 'hidden_layer_sizes': (10, 15), 'solver': 'adam'}\n",
            "-14.618757 (1.662638) with: {'activation': 'logistic', 'alpha': 0.05, 'hidden_layer_sizes': (128, 64), 'solver': 'adam'}\n",
            "-80.086475 (2.645529) with: {'activation': 'logistic', 'alpha': 0.05, 'hidden_layer_sizes': (10, 15), 'solver': 'adam'}\n",
            "-14.167801 (1.895662) with: {'activation': 'logistic', 'alpha': 0.0005, 'hidden_layer_sizes': (128, 64), 'solver': 'adam'}\n",
            "-80.597453 (3.709427) with: {'activation': 'logistic', 'alpha': 0.0005, 'hidden_layer_sizes': (10, 15), 'solver': 'adam'}\n",
            "-12.211928 (1.456692) with: {'activation': 'tanh', 'alpha': 5e-05, 'hidden_layer_sizes': (128, 64), 'solver': 'adam'}\n",
            "-23.920204 (4.172574) with: {'activation': 'tanh', 'alpha': 5e-05, 'hidden_layer_sizes': (10, 15), 'solver': 'adam'}\n",
            "-12.193693 (1.503315) with: {'activation': 'tanh', 'alpha': 0.05, 'hidden_layer_sizes': (128, 64), 'solver': 'adam'}\n",
            "-21.944358 (1.795139) with: {'activation': 'tanh', 'alpha': 0.05, 'hidden_layer_sizes': (10, 15), 'solver': 'adam'}\n",
            "-12.188729 (1.425808) with: {'activation': 'tanh', 'alpha': 0.0005, 'hidden_layer_sizes': (128, 64), 'solver': 'adam'}\n",
            "-22.974827 (2.524558) with: {'activation': 'tanh', 'alpha': 0.0005, 'hidden_layer_sizes': (10, 15), 'solver': 'adam'}\n",
            "-11.624670 (1.342302) with: {'activation': 'relu', 'alpha': 5e-05, 'hidden_layer_sizes': (128, 64), 'solver': 'adam'}\n",
            "-11.813208 (1.336972) with: {'activation': 'relu', 'alpha': 5e-05, 'hidden_layer_sizes': (10, 15), 'solver': 'adam'}\n",
            "-11.884679 (1.462310) with: {'activation': 'relu', 'alpha': 0.05, 'hidden_layer_sizes': (128, 64), 'solver': 'adam'}\n",
            "-11.866365 (1.343518) with: {'activation': 'relu', 'alpha': 0.05, 'hidden_layer_sizes': (10, 15), 'solver': 'adam'}\n",
            "-11.644584 (1.323029) with: {'activation': 'relu', 'alpha': 0.0005, 'hidden_layer_sizes': (128, 64), 'solver': 'adam'}\n",
            "-12.224970 (1.482436) with: {'activation': 'relu', 'alpha': 0.0005, 'hidden_layer_sizes': (10, 15), 'solver': 'adam'}\n"
          ],
          "name": "stdout"
        },
        {
          "output_type": "stream",
          "text": [
            "/usr/local/lib/python3.6/dist-packages/sklearn/neural_network/_multilayer_perceptron.py:571: ConvergenceWarning: Stochastic Optimizer: Maximum iterations (100) reached and the optimization hasn't converged yet.\n",
            "  % self.max_iter, ConvergenceWarning)\n"
          ],
          "name": "stderr"
        }
      ]
    },
    {
      "cell_type": "code",
      "metadata": {
        "colab": {
          "base_uri": "https://localhost:8080/"
        },
        "id": "SWD4baXmA90j",
        "outputId": "1e81b13d-5090-439a-d014-df852885f5ec"
      },
      "source": [
        "#putting the best model parameters into the model (after Grid Search CV is applied)\r\n",
        "\r\n",
        "mlp = MLPRegressor(activation='relu', alpha=0.0001, batch_size='auto', beta_1=0.9,\r\n",
        "             beta_2=0.999, early_stopping=True, epsilon=1e-08,\r\n",
        "             hidden_layer_sizes=(128,64), learning_rate='constant',\r\n",
        "             learning_rate_init=0.001, max_fun=15000, max_iter=200,\r\n",
        "             momentum=0, n_iter_no_change=10, nesterovs_momentum=True,\r\n",
        "             power_t=0.5, random_state=None, shuffle=True, solver='adam',\r\n",
        "             tol=0.0001, validation_fraction=0.1, verbose=False,\r\n",
        "             warm_start=False)\r\n",
        "mlp\r\n",
        "mlp.fit(X_train,Y_train)\r\n",
        "predictions = mlp.predict(X_test)\r\n",
        "predictions1=mlp.predict(X_train)\r\n",
        "\r\n",
        "print(\"mse_test :\" ,mean_squared_error(Y_test,predictions), \"mse_train :\",mean_squared_error(Y_train,predictions1))"
      ],
      "execution_count": 16,
      "outputs": [
        {
          "output_type": "stream",
          "text": [
            "/usr/local/lib/python3.6/dist-packages/sklearn/neural_network/_multilayer_perceptron.py:1342: DataConversionWarning: A column-vector y was passed when a 1d array was expected. Please change the shape of y to (n_samples, ), for example using ravel().\n",
            "  y = column_or_1d(y, warn=True)\n"
          ],
          "name": "stderr"
        },
        {
          "output_type": "stream",
          "text": [
            "mse_test : 11.645390950508554 mse_train : 11.466360020293259\n"
          ],
          "name": "stdout"
        }
      ]
    },
    {
      "cell_type": "code",
      "metadata": {
        "colab": {
          "base_uri": "https://localhost:8080/",
          "height": 265
        },
        "id": "S-xhKVTaFTqy",
        "outputId": "7c9babe3-6261-48a0-bf0f-5a1bb32d1bdb"
      },
      "source": [
        "\r\n",
        "plt.figure(3)\r\n",
        "Test,= plt.plot(Y_test)\r\n",
        "Prediction, = plt.plot(predictions)\r\n",
        "plt.legend([Prediction,Test],[\"Predicted Train Data\",\"Real Data\"])\r\n",
        "plt.show()"
      ],
      "execution_count": 17,
      "outputs": [
        {
          "output_type": "display_data",
          "data": {
            "image/png": "[encoded data removed]",
            "text/plain": [
              "<Figure size 432x288 with 1 Axes>"
            ]
          },
          "metadata": {
            "tags": [],
            "needs_background": "light"
          }
        }
      ]
    },
    {
      "cell_type": "code",
      "metadata": {
        "id": "t706KHNr7XXA",
        "colab": {
          "base_uri": "https://localhost:8080/"
        },
        "outputId": "3741f77d-8b19-4801-9552-5a4a0a5b150c"
      },
      "source": [
        "#prediction for the unseen data\r\n",
        "Xnew=[[79,\t38,\t46],\r\n",
        "[73,\t32,\t79],\r\n",
        "[72,\t33,\t97],\r\n",
        "[71,\t29,\t103],\r\n",
        "[72\t,32\t,116],\r\n",
        "[72,\t32,\t107],\r\n",
        "[70,\t31,\t101],\r\n",
        "[69,\t29,\t111],\r\n",
        "[65,\t28,\t115],\r\n",
        "[60,\t24,\t111],\r\n",
        "[57,\t19,\t130],\r\n",
        "[59,\t16,\t114]]\r\n",
        "Xnew = scaler.transform(Xnew)\r\n",
        "a=mlp.predict(Xnew)\r\n",
        "print(\"prediction for that input is\" , a)\r\n",
        "\r\n",
        "\r\n"
      ],
      "execution_count": 18,
      "outputs": [
        {
          "output_type": "stream",
          "text": [
            "prediction for that input is [35.55918742 31.01246655 31.5950179  28.47300943 30.87737771 30.89429811\n",
            " 30.09260459 28.37334793 27.35626329 23.36337064 18.557043   15.98131929]\n"
          ],
          "name": "stdout"
        }
      ]
    }
  ]
}