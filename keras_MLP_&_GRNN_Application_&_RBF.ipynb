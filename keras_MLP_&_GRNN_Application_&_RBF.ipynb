{
  "nbformat": 4,
  "nbformat_minor": 0,
  "metadata": {
    "accelerator": "GPU",
    "colab": {
      "name": "keras MLP & GRNN Application & RBF.ipynb",
      "provenance": [],
      "mount_file_id": "1mVafhtNGTlcBfF7zb5-fy0s0Y8tJzyvf",
      "authorship_tag": "ABX9TyP/Wa9bX6eKHjei6DT9RQDE",
      "include_colab_link": true
    },
    "kernelspec": {
      "display_name": "Python 3",
      "name": "python3"
    }
  },
  "cells": [
    {
      "cell_type": "markdown",
      "metadata": {
        "id": "view-in-github",
        "colab_type": "text"
      },
      "source": [
        "<a href=\"https://colab.research.google.com/github/bselin/ANN-Applications-MLP-Keras-GRNN-RBF/blob/main/keras_MLP_%26_GRNN_Application_%26_RBF.ipynb\" target=\"_parent\"><img src=\"https://colab.research.google.com/assets/colab-badge.svg\" alt=\"Open In Colab\"/></a>"
      ]
    },
    {
      "cell_type": "code",
      "metadata": {
        "id": "2oKRrXyPsVRu"
      },
      "source": [
        "import numpy as np \r\n",
        "import pandas as pd \r\n",
        " \r\n",
        "import matplotlib.pyplot as plt \r\n",
        "from mpl_toolkits.mplot3d import Axes3D\r\n",
        " \r\n",
        "from sklearn.preprocessing import MinMaxScaler\r\n",
        "from sklearn.model_selection import train_test_split\r\n",
        " \r\n",
        "from keras.models import Sequential\r\n",
        "from keras.layers import Dense\r\n",
        "from keras import metrics\r\n",
        "\r\n",
        "dataset=pd.read_csv('/content/drive/MyDrive/final - Data (6).csv',delimiter=',') \r\n"
      ],
      "execution_count": 56,
      "outputs": []
    },
    {
      "cell_type": "code",
      "metadata": {
        "colab": {
          "base_uri": "https://localhost:8080/"
        },
        "id": "HNR80ZWo0OD5",
        "outputId": "6c15fff6-2b2e-4b3d-f95c-3169abf9a48c"
      },
      "source": [
        "data=dataset[['MINIMUM_SPEED', 'MAXIMUM_SPEED', 'AVERAGE_SPEED','NUMBER_OF_VEHICLES','1LAG_AVG_SPEED']]\r\n",
        "data\r\n",
        "dataset=data\r\n",
        "print(dataset)\r\n",
        "X = np.array(dataset.iloc[:,1:4])\r\n",
        "L = len(dataset)\r\n",
        "Y = np.array([dataset.iloc[:,4]])\r\n",
        "Y= Y[:,0:L]\r\n",
        "print(X.shape,Y.shape)\r\n",
        "print(X,Y)"
      ],
      "execution_count": 57,
      "outputs": [
        {
          "output_type": "stream",
          "text": [
            "       MINIMUM_SPEED  MAXIMUM_SPEED  ...  NUMBER_OF_VEHICLES  1LAG_AVG_SPEED\n",
            "0                  8             80  ...                  47              30\n",
            "1                  6             80  ...                  81              33\n",
            "2                  8             80  ...                 115              28\n",
            "3                  6             76  ...                 102              32\n",
            "4                  6             72  ...                 106              33\n",
            "...              ...            ...  ...                 ...             ...\n",
            "13320              6             54  ...                  20              31\n",
            "13321              6             57  ...                  25              32\n",
            "13322              6             58  ...                  19              31\n",
            "13323              6             54  ...                  31              29\n",
            "13324              7             57  ...                  34              28\n",
            "\n",
            "[13325 rows x 5 columns]\n",
            "(13325, 3) (1, 13325)\n",
            "[[ 80  40  47]\n",
            " [ 80  30  81]\n",
            " [ 80  33 115]\n",
            " ...\n",
            " [ 58  32  19]\n",
            " [ 54  31  31]\n",
            " [ 57  29  34]] [[30 33 28 ... 31 29 28]]\n"
          ],
          "name": "stdout"
        }
      ]
    },
    {
      "cell_type": "code",
      "metadata": {
        "colab": {
          "base_uri": "https://localhost:8080/"
        },
        "id": "xSA8aqriyiAT",
        "outputId": "4ab1078f-e7d3-4fef-e3eb-c8b72d08915c"
      },
      "source": [
        "Y = np.transpose(Y)\r\n",
        "#_______________________________________________\r\n",
        "\r\n",
        " \r\n",
        "print(X.shape,Y.shape)\r\n",
        "print(X,Y)\r\n"
      ],
      "execution_count": 58,
      "outputs": [
        {
          "output_type": "stream",
          "text": [
            "(13325, 3) (13325, 1)\n",
            "[[ 80  40  47]\n",
            " [ 80  30  81]\n",
            " [ 80  33 115]\n",
            " ...\n",
            " [ 58  32  19]\n",
            " [ 54  31  31]\n",
            " [ 57  29  34]] [[30]\n",
            " [33]\n",
            " [28]\n",
            " ...\n",
            " [31]\n",
            " [29]\n",
            " [28]]\n"
          ],
          "name": "stdout"
        }
      ]
    },
    {
      "cell_type": "code",
      "metadata": {
        "colab": {
          "base_uri": "https://localhost:8080/"
        },
        "id": "6ggn66F0mTtG",
        "outputId": "bd96b21f-b1a8-4fbe-947e-5422d1e1a1d9"
      },
      "source": [
        "#alternative:\r\n",
        "from sklearn import preprocessing\r\n",
        "\r\n",
        "X_train, X_test, y_train, y_test = train_test_split(preprocessing.minmax_scale(X),preprocessing.minmax_scale(Y.reshape((-1, 1))),test_size=0.25)\r\n",
        "#or\r\n",
        "#X_train, X_test, y_train, y_test = train_test_split(X,Y,test_size=0.25)\r\n",
        "y_train"
      ],
      "execution_count": 59,
      "outputs": [
        {
          "output_type": "execute_result",
          "data": {
            "text/plain": [
              "array([[0.11764706],\n",
              "       [0.32352941],\n",
              "       [0.07352941],\n",
              "       ...,\n",
              "       [0.17647059],\n",
              "       [0.42647059],\n",
              "       [0.07352941]])"
            ]
          },
          "metadata": {
            "tags": []
          },
          "execution_count": 59
        }
      ]
    },
    {
      "cell_type": "code",
      "metadata": {
        "colab": {
          "base_uri": "https://localhost:8080/"
        },
        "id": "qo4zSgYZgC-p",
        "outputId": "c1bea1e1-ac36-457b-e5bc-18fdb2d10987"
      },
      "source": [
        "from keras.models import Sequential\r\n",
        "from keras.layers import Dense\r\n",
        "\r\n",
        "#https://towardsdatascience.com/keras-101-a-simple-and-interpretable-neural-network-model-for-house-pricing-regression-31b1a77f05ae\r\n",
        "model = Sequential()\r\n",
        "model.add(Dense(128, input_shape=(3, ), activation='sigmoid', name='dense_1'))\r\n",
        "model.add(Dense(64, activation='tanh', name='dense_2'))\r\n",
        "model.add(Dense(1, activation='linear', name='dense_output'))\r\n",
        "model.compile(optimizer='adam', loss='mse', metrics=['mae'])\r\n",
        "model.summary()\r\n"
      ],
      "execution_count": 13,
      "outputs": [
        {
          "output_type": "stream",
          "text": [
            "Model: \"sequential\"\n",
            "_________________________________________________________________\n",
            "Layer (type)                 Output Shape              Param #   \n",
            "=================================================================\n",
            "dense_1 (Dense)              (None, 128)               512       \n",
            "_________________________________________________________________\n",
            "dense_2 (Dense)              (None, 64)                8256      \n",
            "_________________________________________________________________\n",
            "dense_output (Dense)         (None, 1)                 65        \n",
            "=================================================================\n",
            "Total params: 8,833\n",
            "Trainable params: 8,833\n",
            "Non-trainable params: 0\n",
            "_________________________________________________________________\n"
          ],
          "name": "stdout"
        }
      ]
    },
    {
      "cell_type": "code",
      "metadata": {
        "colab": {
          "base_uri": "https://localhost:8080/"
        },
        "id": "U1OZDV3dmLaW",
        "outputId": "4ce77e3b-2114-43b1-86a0-cb12829242f5"
      },
      "source": [
        "history = model.fit(X_train, y_train, epochs=100, validation_split=0.05)\r\n",
        "prediction=model.predict(X_test)"
      ],
      "execution_count": 14,
      "outputs": [
        {
          "output_type": "stream",
          "text": [
            "Epoch 1/100\n",
            "297/297 [==============================] - 3s 3ms/step - loss: 0.0245 - mae: 0.1170 - val_loss: 0.0094 - val_mae: 0.0694\n",
            "Epoch 2/100\n",
            "297/297 [==============================] - 1s 2ms/step - loss: 0.0075 - mae: 0.0645 - val_loss: 0.0121 - val_mae: 0.0890\n",
            "Epoch 3/100\n",
            "297/297 [==============================] - 1s 2ms/step - loss: 0.0074 - mae: 0.0613 - val_loss: 0.0068 - val_mae: 0.0511\n",
            "Epoch 4/100\n",
            "297/297 [==============================] - 1s 2ms/step - loss: 0.0064 - mae: 0.0554 - val_loss: 0.0069 - val_mae: 0.0532\n",
            "Epoch 5/100\n",
            "297/297 [==============================] - 1s 2ms/step - loss: 0.0065 - mae: 0.0555 - val_loss: 0.0068 - val_mae: 0.0493\n",
            "Epoch 6/100\n",
            "297/297 [==============================] - 1s 2ms/step - loss: 0.0063 - mae: 0.0534 - val_loss: 0.0102 - val_mae: 0.0787\n",
            "Epoch 7/100\n",
            "297/297 [==============================] - 1s 2ms/step - loss: 0.0070 - mae: 0.0594 - val_loss: 0.0079 - val_mae: 0.0619\n",
            "Epoch 8/100\n",
            "297/297 [==============================] - 1s 2ms/step - loss: 0.0062 - mae: 0.0537 - val_loss: 0.0077 - val_mae: 0.0608\n",
            "Epoch 9/100\n",
            "297/297 [==============================] - 1s 2ms/step - loss: 0.0066 - mae: 0.0557 - val_loss: 0.0120 - val_mae: 0.0900\n",
            "Epoch 10/100\n",
            "297/297 [==============================] - 1s 2ms/step - loss: 0.0062 - mae: 0.0539 - val_loss: 0.0073 - val_mae: 0.0569\n",
            "Epoch 11/100\n",
            "297/297 [==============================] - 1s 2ms/step - loss: 0.0069 - mae: 0.0565 - val_loss: 0.0074 - val_mae: 0.0582\n",
            "Epoch 12/100\n",
            "297/297 [==============================] - 1s 2ms/step - loss: 0.0062 - mae: 0.0547 - val_loss: 0.0072 - val_mae: 0.0565\n",
            "Epoch 13/100\n",
            "297/297 [==============================] - 1s 2ms/step - loss: 0.0061 - mae: 0.0522 - val_loss: 0.0075 - val_mae: 0.0593\n",
            "Epoch 14/100\n",
            "297/297 [==============================] - 1s 2ms/step - loss: 0.0063 - mae: 0.0531 - val_loss: 0.0067 - val_mae: 0.0506\n",
            "Epoch 15/100\n",
            "297/297 [==============================] - 1s 2ms/step - loss: 0.0062 - mae: 0.0527 - val_loss: 0.0079 - val_mae: 0.0546\n",
            "Epoch 16/100\n",
            "297/297 [==============================] - 1s 2ms/step - loss: 0.0060 - mae: 0.0524 - val_loss: 0.0067 - val_mae: 0.0507\n",
            "Epoch 17/100\n",
            "297/297 [==============================] - 1s 2ms/step - loss: 0.0060 - mae: 0.0521 - val_loss: 0.0066 - val_mae: 0.0489\n",
            "Epoch 18/100\n",
            "297/297 [==============================] - 1s 2ms/step - loss: 0.0060 - mae: 0.0512 - val_loss: 0.0067 - val_mae: 0.0510\n",
            "Epoch 19/100\n",
            "297/297 [==============================] - 1s 2ms/step - loss: 0.0063 - mae: 0.0535 - val_loss: 0.0068 - val_mae: 0.0521\n",
            "Epoch 20/100\n",
            "297/297 [==============================] - 1s 2ms/step - loss: 0.0057 - mae: 0.0500 - val_loss: 0.0071 - val_mae: 0.0553\n",
            "Epoch 21/100\n",
            "297/297 [==============================] - 1s 2ms/step - loss: 0.0058 - mae: 0.0502 - val_loss: 0.0067 - val_mae: 0.0486\n",
            "Epoch 22/100\n",
            "297/297 [==============================] - 1s 2ms/step - loss: 0.0062 - mae: 0.0540 - val_loss: 0.0067 - val_mae: 0.0487\n",
            "Epoch 23/100\n",
            "297/297 [==============================] - 1s 2ms/step - loss: 0.0059 - mae: 0.0511 - val_loss: 0.0067 - val_mae: 0.0509\n",
            "Epoch 24/100\n",
            "297/297 [==============================] - 1s 2ms/step - loss: 0.0060 - mae: 0.0507 - val_loss: 0.0068 - val_mae: 0.0526\n",
            "Epoch 25/100\n",
            "297/297 [==============================] - 1s 2ms/step - loss: 0.0060 - mae: 0.0515 - val_loss: 0.0067 - val_mae: 0.0503\n",
            "Epoch 26/100\n",
            "297/297 [==============================] - 1s 2ms/step - loss: 0.0058 - mae: 0.0497 - val_loss: 0.0073 - val_mae: 0.0515\n",
            "Epoch 27/100\n",
            "297/297 [==============================] - 1s 2ms/step - loss: 0.0059 - mae: 0.0502 - val_loss: 0.0067 - val_mae: 0.0504\n",
            "Epoch 28/100\n",
            "297/297 [==============================] - 1s 2ms/step - loss: 0.0061 - mae: 0.0516 - val_loss: 0.0085 - val_mae: 0.0590\n",
            "Epoch 29/100\n",
            "297/297 [==============================] - 1s 2ms/step - loss: 0.0062 - mae: 0.0528 - val_loss: 0.0070 - val_mae: 0.0504\n",
            "Epoch 30/100\n",
            "297/297 [==============================] - 1s 2ms/step - loss: 0.0057 - mae: 0.0495 - val_loss: 0.0070 - val_mae: 0.0539\n",
            "Epoch 31/100\n",
            "297/297 [==============================] - 1s 2ms/step - loss: 0.0057 - mae: 0.0504 - val_loss: 0.0067 - val_mae: 0.0481\n",
            "Epoch 32/100\n",
            "297/297 [==============================] - 1s 2ms/step - loss: 0.0056 - mae: 0.0496 - val_loss: 0.0068 - val_mae: 0.0523\n",
            "Epoch 33/100\n",
            "297/297 [==============================] - 1s 2ms/step - loss: 0.0058 - mae: 0.0513 - val_loss: 0.0069 - val_mae: 0.0493\n",
            "Epoch 34/100\n",
            "297/297 [==============================] - 1s 2ms/step - loss: 0.0060 - mae: 0.0515 - val_loss: 0.0069 - val_mae: 0.0533\n",
            "Epoch 35/100\n",
            "297/297 [==============================] - 1s 2ms/step - loss: 0.0058 - mae: 0.0504 - val_loss: 0.0074 - val_mae: 0.0519\n",
            "Epoch 36/100\n",
            "297/297 [==============================] - 1s 2ms/step - loss: 0.0061 - mae: 0.0512 - val_loss: 0.0068 - val_mae: 0.0487\n",
            "Epoch 37/100\n",
            "297/297 [==============================] - 1s 2ms/step - loss: 0.0060 - mae: 0.0517 - val_loss: 0.0066 - val_mae: 0.0480\n",
            "Epoch 38/100\n",
            "297/297 [==============================] - 1s 2ms/step - loss: 0.0058 - mae: 0.0488 - val_loss: 0.0066 - val_mae: 0.0488\n",
            "Epoch 39/100\n",
            "297/297 [==============================] - 1s 2ms/step - loss: 0.0061 - mae: 0.0514 - val_loss: 0.0069 - val_mae: 0.0489\n",
            "Epoch 40/100\n",
            "297/297 [==============================] - 1s 2ms/step - loss: 0.0063 - mae: 0.0520 - val_loss: 0.0066 - val_mae: 0.0497\n",
            "Epoch 41/100\n",
            "297/297 [==============================] - 1s 2ms/step - loss: 0.0061 - mae: 0.0507 - val_loss: 0.0071 - val_mae: 0.0555\n",
            "Epoch 42/100\n",
            "297/297 [==============================] - 1s 2ms/step - loss: 0.0066 - mae: 0.0541 - val_loss: 0.0068 - val_mae: 0.0517\n",
            "Epoch 43/100\n",
            "297/297 [==============================] - 1s 2ms/step - loss: 0.0055 - mae: 0.0480 - val_loss: 0.0074 - val_mae: 0.0515\n",
            "Epoch 44/100\n",
            "297/297 [==============================] - 1s 2ms/step - loss: 0.0058 - mae: 0.0494 - val_loss: 0.0069 - val_mae: 0.0526\n",
            "Epoch 45/100\n",
            "297/297 [==============================] - 1s 2ms/step - loss: 0.0059 - mae: 0.0517 - val_loss: 0.0068 - val_mae: 0.0486\n",
            "Epoch 46/100\n",
            "297/297 [==============================] - 1s 2ms/step - loss: 0.0054 - mae: 0.0484 - val_loss: 0.0067 - val_mae: 0.0484\n",
            "Epoch 47/100\n",
            "297/297 [==============================] - 1s 2ms/step - loss: 0.0053 - mae: 0.0480 - val_loss: 0.0067 - val_mae: 0.0489\n",
            "Epoch 48/100\n",
            "297/297 [==============================] - 1s 2ms/step - loss: 0.0056 - mae: 0.0494 - val_loss: 0.0066 - val_mae: 0.0497\n",
            "Epoch 49/100\n",
            "297/297 [==============================] - 1s 2ms/step - loss: 0.0055 - mae: 0.0485 - val_loss: 0.0067 - val_mae: 0.0500\n",
            "Epoch 50/100\n",
            "297/297 [==============================] - 1s 2ms/step - loss: 0.0055 - mae: 0.0483 - val_loss: 0.0068 - val_mae: 0.0491\n",
            "Epoch 51/100\n",
            "297/297 [==============================] - 1s 2ms/step - loss: 0.0053 - mae: 0.0486 - val_loss: 0.0067 - val_mae: 0.0495\n",
            "Epoch 52/100\n",
            "297/297 [==============================] - 1s 2ms/step - loss: 0.0054 - mae: 0.0489 - val_loss: 0.0069 - val_mae: 0.0492\n",
            "Epoch 53/100\n",
            "297/297 [==============================] - 1s 2ms/step - loss: 0.0054 - mae: 0.0493 - val_loss: 0.0066 - val_mae: 0.0480\n",
            "Epoch 54/100\n",
            "297/297 [==============================] - 1s 2ms/step - loss: 0.0055 - mae: 0.0496 - val_loss: 0.0067 - val_mae: 0.0505\n",
            "Epoch 55/100\n",
            "297/297 [==============================] - 1s 2ms/step - loss: 0.0053 - mae: 0.0484 - val_loss: 0.0075 - val_mae: 0.0527\n",
            "Epoch 56/100\n",
            "297/297 [==============================] - 1s 2ms/step - loss: 0.0053 - mae: 0.0479 - val_loss: 0.0075 - val_mae: 0.0528\n",
            "Epoch 57/100\n",
            "297/297 [==============================] - 1s 2ms/step - loss: 0.0057 - mae: 0.0497 - val_loss: 0.0067 - val_mae: 0.0500\n",
            "Epoch 58/100\n",
            "297/297 [==============================] - 1s 2ms/step - loss: 0.0066 - mae: 0.0547 - val_loss: 0.0068 - val_mae: 0.0495\n",
            "Epoch 59/100\n",
            "297/297 [==============================] - 1s 2ms/step - loss: 0.0062 - mae: 0.0508 - val_loss: 0.0067 - val_mae: 0.0488\n",
            "Epoch 60/100\n",
            "297/297 [==============================] - 1s 2ms/step - loss: 0.0060 - mae: 0.0493 - val_loss: 0.0068 - val_mae: 0.0480\n",
            "Epoch 61/100\n",
            "297/297 [==============================] - 1s 2ms/step - loss: 0.0062 - mae: 0.0518 - val_loss: 0.0069 - val_mae: 0.0529\n",
            "Epoch 62/100\n",
            "297/297 [==============================] - 1s 2ms/step - loss: 0.0053 - mae: 0.0478 - val_loss: 0.0067 - val_mae: 0.0507\n",
            "Epoch 63/100\n",
            "297/297 [==============================] - 1s 2ms/step - loss: 0.0057 - mae: 0.0493 - val_loss: 0.0069 - val_mae: 0.0495\n",
            "Epoch 64/100\n",
            "297/297 [==============================] - 1s 2ms/step - loss: 0.0059 - mae: 0.0495 - val_loss: 0.0072 - val_mae: 0.0512\n",
            "Epoch 65/100\n",
            "297/297 [==============================] - 1s 2ms/step - loss: 0.0058 - mae: 0.0500 - val_loss: 0.0066 - val_mae: 0.0494\n",
            "Epoch 66/100\n",
            "297/297 [==============================] - 1s 2ms/step - loss: 0.0052 - mae: 0.0473 - val_loss: 0.0067 - val_mae: 0.0506\n",
            "Epoch 67/100\n",
            "297/297 [==============================] - 1s 2ms/step - loss: 0.0056 - mae: 0.0488 - val_loss: 0.0068 - val_mae: 0.0518\n",
            "Epoch 68/100\n",
            "297/297 [==============================] - 1s 2ms/step - loss: 0.0059 - mae: 0.0502 - val_loss: 0.0067 - val_mae: 0.0512\n",
            "Epoch 69/100\n",
            "297/297 [==============================] - 1s 2ms/step - loss: 0.0057 - mae: 0.0495 - val_loss: 0.0069 - val_mae: 0.0528\n",
            "Epoch 70/100\n",
            "297/297 [==============================] - 1s 2ms/step - loss: 0.0057 - mae: 0.0488 - val_loss: 0.0075 - val_mae: 0.0524\n",
            "Epoch 71/100\n",
            "297/297 [==============================] - 1s 2ms/step - loss: 0.0054 - mae: 0.0486 - val_loss: 0.0068 - val_mae: 0.0524\n",
            "Epoch 72/100\n",
            "297/297 [==============================] - 1s 2ms/step - loss: 0.0060 - mae: 0.0507 - val_loss: 0.0075 - val_mae: 0.0589\n",
            "Epoch 73/100\n",
            "297/297 [==============================] - 1s 2ms/step - loss: 0.0056 - mae: 0.0508 - val_loss: 0.0071 - val_mae: 0.0510\n",
            "Epoch 74/100\n",
            "297/297 [==============================] - 1s 2ms/step - loss: 0.0056 - mae: 0.0492 - val_loss: 0.0065 - val_mae: 0.0484\n",
            "Epoch 75/100\n",
            "297/297 [==============================] - 1s 2ms/step - loss: 0.0057 - mae: 0.0498 - val_loss: 0.0068 - val_mae: 0.0491\n",
            "Epoch 76/100\n",
            "297/297 [==============================] - 1s 2ms/step - loss: 0.0053 - mae: 0.0481 - val_loss: 0.0067 - val_mae: 0.0505\n",
            "Epoch 77/100\n",
            "297/297 [==============================] - 1s 3ms/step - loss: 0.0060 - mae: 0.0496 - val_loss: 0.0066 - val_mae: 0.0489\n",
            "Epoch 78/100\n",
            "297/297 [==============================] - 1s 2ms/step - loss: 0.0056 - mae: 0.0478 - val_loss: 0.0066 - val_mae: 0.0484\n",
            "Epoch 79/100\n",
            "297/297 [==============================] - 1s 2ms/step - loss: 0.0060 - mae: 0.0509 - val_loss: 0.0065 - val_mae: 0.0485\n",
            "Epoch 80/100\n",
            "297/297 [==============================] - 1s 2ms/step - loss: 0.0058 - mae: 0.0485 - val_loss: 0.0066 - val_mae: 0.0490\n",
            "Epoch 81/100\n",
            "297/297 [==============================] - 1s 3ms/step - loss: 0.0059 - mae: 0.0498 - val_loss: 0.0068 - val_mae: 0.0525\n",
            "Epoch 82/100\n",
            "297/297 [==============================] - 1s 2ms/step - loss: 0.0058 - mae: 0.0497 - val_loss: 0.0066 - val_mae: 0.0492\n",
            "Epoch 83/100\n",
            "297/297 [==============================] - 1s 2ms/step - loss: 0.0059 - mae: 0.0498 - val_loss: 0.0067 - val_mae: 0.0508\n",
            "Epoch 84/100\n",
            "297/297 [==============================] - 1s 2ms/step - loss: 0.0056 - mae: 0.0487 - val_loss: 0.0068 - val_mae: 0.0481\n",
            "Epoch 85/100\n",
            "297/297 [==============================] - 1s 2ms/step - loss: 0.0055 - mae: 0.0486 - val_loss: 0.0065 - val_mae: 0.0481\n",
            "Epoch 86/100\n",
            "297/297 [==============================] - 1s 2ms/step - loss: 0.0056 - mae: 0.0485 - val_loss: 0.0068 - val_mae: 0.0494\n",
            "Epoch 87/100\n",
            "297/297 [==============================] - 1s 2ms/step - loss: 0.0057 - mae: 0.0488 - val_loss: 0.0068 - val_mae: 0.0520\n",
            "Epoch 88/100\n",
            "297/297 [==============================] - 1s 2ms/step - loss: 0.0060 - mae: 0.0507 - val_loss: 0.0072 - val_mae: 0.0510\n",
            "Epoch 89/100\n",
            "297/297 [==============================] - 1s 2ms/step - loss: 0.0059 - mae: 0.0508 - val_loss: 0.0067 - val_mae: 0.0510\n",
            "Epoch 90/100\n",
            "297/297 [==============================] - 1s 3ms/step - loss: 0.0052 - mae: 0.0475 - val_loss: 0.0070 - val_mae: 0.0502\n",
            "Epoch 91/100\n",
            "297/297 [==============================] - 1s 2ms/step - loss: 0.0057 - mae: 0.0483 - val_loss: 0.0066 - val_mae: 0.0485\n",
            "Epoch 92/100\n",
            "297/297 [==============================] - 1s 2ms/step - loss: 0.0055 - mae: 0.0493 - val_loss: 0.0066 - val_mae: 0.0506\n",
            "Epoch 93/100\n",
            "297/297 [==============================] - 1s 2ms/step - loss: 0.0055 - mae: 0.0487 - val_loss: 0.0070 - val_mae: 0.0507\n",
            "Epoch 94/100\n",
            "297/297 [==============================] - 1s 2ms/step - loss: 0.0055 - mae: 0.0483 - val_loss: 0.0065 - val_mae: 0.0476\n",
            "Epoch 95/100\n",
            "297/297 [==============================] - 1s 2ms/step - loss: 0.0055 - mae: 0.0475 - val_loss: 0.0066 - val_mae: 0.0484\n",
            "Epoch 96/100\n",
            "297/297 [==============================] - 1s 2ms/step - loss: 0.0055 - mae: 0.0496 - val_loss: 0.0068 - val_mae: 0.0497\n",
            "Epoch 97/100\n",
            "297/297 [==============================] - 1s 2ms/step - loss: 0.0054 - mae: 0.0482 - val_loss: 0.0065 - val_mae: 0.0481\n",
            "Epoch 98/100\n",
            "297/297 [==============================] - 1s 2ms/step - loss: 0.0058 - mae: 0.0488 - val_loss: 0.0068 - val_mae: 0.0483\n",
            "Epoch 99/100\n",
            "297/297 [==============================] - 1s 2ms/step - loss: 0.0058 - mae: 0.0486 - val_loss: 0.0068 - val_mae: 0.0487\n",
            "Epoch 100/100\n",
            "297/297 [==============================] - 1s 2ms/step - loss: 0.0057 - mae: 0.0484 - val_loss: 0.0065 - val_mae: 0.0480\n"
          ],
          "name": "stdout"
        }
      ]
    },
    {
      "cell_type": "code",
      "metadata": {
        "id": "MRh9vpZGmPLF",
        "colab": {
          "base_uri": "https://localhost:8080/",
          "height": 398
        },
        "outputId": "d5916318-686f-4cd7-ccb9-7bdf1e4d088a"
      },
      "source": [
        "import numpy as np \r\n",
        "import pandas as pd \r\n",
        " \r\n",
        "import matplotlib.pyplot as plt \r\n",
        "from mpl_toolkits.mplot3d import Axes3D\r\n",
        "\r\n",
        "plt.figure(3)\r\n",
        "Test= plt.plot(y_test)\r\n",
        "Predict = plt.plot(prediction)\r\n",
        "plt.legend([Predict,Test],[\"Predicted Data\",\"Real Data\"])\r\n",
        "plt.show()"
      ],
      "execution_count": 15,
      "outputs": [
        {
          "output_type": "stream",
          "text": [
            "/usr/local/lib/python3.6/dist-packages/ipykernel_launcher.py:10: UserWarning: Legend does not support [<matplotlib.lines.Line2D object at 0x7fd1a0266ba8>] instances.\n",
            "A proxy artist may be used instead.\n",
            "See: http://matplotlib.org/users/legend_guide.html#creating-artists-specifically-for-adding-to-the-legend-aka-proxy-artists\n",
            "  # Remove the CWD from sys.path while we load stuff.\n",
            "/usr/local/lib/python3.6/dist-packages/ipykernel_launcher.py:10: UserWarning: Legend does not support [<matplotlib.lines.Line2D object at 0x7fd1a0242278>] instances.\n",
            "A proxy artist may be used instead.\n",
            "See: http://matplotlib.org/users/legend_guide.html#creating-artists-specifically-for-adding-to-the-legend-aka-proxy-artists\n",
            "  # Remove the CWD from sys.path while we load stuff.\n"
          ],
          "name": "stderr"
        },
        {
          "output_type": "display_data",
          "data": {
            "image/png": "[encoded data removed]",
            "text/plain": [
              "<Figure size 432x288 with 1 Axes>"
            ]
          },
          "metadata": {
            "tags": [],
            "needs_background": "light"
          }
        }
      ]
    },
    {
      "cell_type": "code",
      "metadata": {
        "id": "POA0R-bVm3YB",
        "colab": {
          "base_uri": "https://localhost:8080/",
          "height": 517
        },
        "outputId": "18352f56-2572-4ec9-8d61-72c691ff16f0"
      },
      "source": [
        "from plotly.subplots import make_subplots\r\n",
        "import plotly.graph_objects as go\r\n",
        "import math\r\n",
        "\r\n",
        "fig = go.Figure()\r\n",
        "fig.add_trace(go.Scattergl(y=history.history['loss'],\r\n",
        "                    name='Train'))\r\n",
        "fig.add_trace(go.Scattergl(y=history.history['val_loss'],\r\n",
        "                    name='Valid'))\r\n",
        "fig.update_layout(height=500, width=700,\r\n",
        "                  xaxis_title='Epoch',\r\n",
        "                  yaxis_title='Loss')\r\n",
        "fig.show()"
      ],
      "execution_count": 16,
      "outputs": [
        {
          "output_type": "display_data",
          "data": {
            "text/html": [
              "<html>\n",
              "<head><meta charset=\"utf-8\" /></head>\n",
              "<body>\n",
              "    <div>\n",
              "            <script src=\"https://cdnjs.cloudflare.com/ajax/libs/mathjax/2.7.5/MathJax.js?config=TeX-AMS-MML_SVG\"></script><script type=\"text/javascript\">if (window.MathJax) {MathJax.Hub.Config({SVG: {font: \"STIX-Web\"}});}</script>\n",
              "                <script type=\"text/javascript\">window.PlotlyConfig = {MathJaxConfig: 'local'};</script>\n",
              "        <script src=\"https://cdn.plot.ly/plotly-latest.min.js\"></script>    \n",
              "            <div id=\"3b12666b-ca5d-44b4-9879-d82f9f4eed67\" class=\"plotly-graph-div\" style=\"height:500px; width:700px;\"></div>\n",
              "            <script type=\"text/javascript\">\n",
              "                \n",
              "                    window.PLOTLYENV=window.PLOTLYENV || {};\n",
              "                    \n",
              "                if (document.getElementById(\"3b12666b-ca5d-44b4-9879-d82f9f4eed67\")) {\n",
              "                    Plotly.newPlot(\n",
              "                        '3b12666b-ca5d-44b4-9879-d82f9f4eed67',\n",
              "                        [{\"name\": \"Train\", \"type\": \"scattergl\", \"y\": [0.015023636631667614, 0.007444826420396566, 0.007423820439726114, 0.0064374846406280994, 0.006456263829022646, 0.00644268561154604, 0.006435586605221033, 0.006173709873110056, 0.006206927355378866, 0.006361713632941246, 0.006462167948484421, 0.0063399760983884335, 0.00590074947103858, 0.006064897868782282, 0.00606593256816268, 0.006289659067988396, 0.005972253158688545, 0.006031193304806948, 0.006222335621714592, 0.005968848243355751, 0.006030571181327105, 0.0060081444680690765, 0.0061130281537771225, 0.006170712877064943, 0.00593218021094799, 0.0057636890560388565, 0.005832616239786148, 0.005906927864998579, 0.0061321440152823925, 0.005732140503823757, 0.005833958741277456, 0.0060690781101584435, 0.00608484260737896, 0.005910745821893215, 0.005929001607000828, 0.005770631600171328, 0.0060490998439490795, 0.005784513428807259, 0.005878969095647335, 0.005850036162883043, 0.005858615972101688, 0.00596182094886899, 0.005719318985939026, 0.005772506818175316, 0.005922546144574881, 0.005734466947615147, 0.005686644464731216, 0.005749934818595648, 0.005737603176385164, 0.005653379950672388, 0.005878568161278963, 0.0058913277462124825, 0.005806481000036001, 0.00585978664457798, 0.005775769241154194, 0.005741125904023647, 0.005683387164026499, 0.005912940949201584, 0.005683960393071175, 0.00563079072162509, 0.00585826626047492, 0.005608697421848774, 0.005740320309996605, 0.0057027218863368034, 0.005685912445187569, 0.005645725876092911, 0.005659039132297039, 0.005713476333767176, 0.005766542162746191, 0.005611724685877562, 0.005720802582800388, 0.005757550708949566, 0.005733104422688484, 0.005650028586387634, 0.005618695635348558, 0.005743145477026701, 0.005712482612580061, 0.005548946559429169, 0.0058149187825620174, 0.005663057789206505, 0.005641645286232233, 0.005691384896636009, 0.005697479005903006, 0.005560656078159809, 0.005601343233138323, 0.005593403242528439, 0.005603858269751072, 0.00580011447891593, 0.005633501801639795, 0.005640283226966858, 0.00557493744418025, 0.005750579759478569, 0.005723831709474325, 0.005511355586349964, 0.005558221135288477, 0.005758820101618767, 0.005626717582345009, 0.005556667689234018, 0.005573253147304058, 0.005568678956478834]}, {\"name\": \"Valid\", \"type\": \"scattergl\", \"y\": [0.009383317083120346, 0.012088499963283539, 0.006784762721508741, 0.006893541663885117, 0.006758177652955055, 0.010205719619989395, 0.00786369014531374, 0.007728951051831245, 0.012021291069686413, 0.007276176009327173, 0.007421789225190878, 0.0072378190234303474, 0.007548216264694929, 0.006726512219756842, 0.007856101728975773, 0.0067114317789673805, 0.006630434188991785, 0.006727313157171011, 0.006804522126913071, 0.007112385239452124, 0.006699137855321169, 0.0067315311171114445, 0.006717561278492212, 0.00683926185593009, 0.006684707943350077, 0.007328484673053026, 0.006710068788379431, 0.008546323515474796, 0.007042515091598034, 0.006968141067773104, 0.006657560355961323, 0.006829180289059877, 0.0068895407021045685, 0.0069014765322208405, 0.0074129425920546055, 0.006831135600805283, 0.006634232122451067, 0.006635380908846855, 0.006893278565257788, 0.006640750449150801, 0.007111947983503342, 0.006813053507357836, 0.0073515865951776505, 0.006859519053250551, 0.006757178343832493, 0.006677358876913786, 0.006661328487098217, 0.006631357595324516, 0.006682095117866993, 0.006805572658777237, 0.006745807360857725, 0.0068872710689902306, 0.006607494316995144, 0.00667984364554286, 0.007524628192186356, 0.007490679156035185, 0.006673413794487715, 0.006751947104930878, 0.0067299045622348785, 0.006786522921174765, 0.0068713026121258736, 0.006695318501442671, 0.006883959751576185, 0.0072097196243703365, 0.006617584265768528, 0.006692611612379551, 0.006802316755056381, 0.0067468066699802876, 0.006850776728242636, 0.007481093984097242, 0.0068352920934557915, 0.007478198502212763, 0.0071107735857367516, 0.006539006717503071, 0.006841797847300768, 0.00666001345962286, 0.0066006057895720005, 0.006582176312804222, 0.006549871992319822, 0.006577438674867153, 0.006823565810918808, 0.006569248624145985, 0.006678094156086445, 0.006767692975699902, 0.0065474845468997955, 0.0067511387169361115, 0.006810690276324749, 0.007240406237542629, 0.006699645426124334, 0.0069896201603114605, 0.006568846758455038, 0.006648002192378044, 0.007037399336695671, 0.006511999294161797, 0.006605295930057764, 0.00676941080018878, 0.006506685167551041, 0.006753168068826199, 0.006750551518052816, 0.006498909555375576]}],\n",
              "                        {\"height\": 500, \"template\": {\"data\": {\"bar\": [{\"error_x\": {\"color\": \"#2a3f5f\"}, \"error_y\": {\"color\": \"#2a3f5f\"}, \"marker\": {\"line\": {\"color\": \"#E5ECF6\", \"width\": 0.5}}, \"type\": \"bar\"}], \"barpolar\": [{\"marker\": {\"line\": {\"color\": \"#E5ECF6\", \"width\": 0.5}}, \"type\": \"barpolar\"}], \"carpet\": [{\"aaxis\": {\"endlinecolor\": \"#2a3f5f\", \"gridcolor\": \"white\", \"linecolor\": \"white\", \"minorgridcolor\": \"white\", \"startlinecolor\": \"#2a3f5f\"}, \"baxis\": {\"endlinecolor\": \"#2a3f5f\", \"gridcolor\": \"white\", \"linecolor\": \"white\", \"minorgridcolor\": \"white\", \"startlinecolor\": \"#2a3f5f\"}, \"type\": \"carpet\"}], \"choropleth\": [{\"colorbar\": {\"outlinewidth\": 0, \"ticks\": \"\"}, \"type\": \"choropleth\"}], \"contour\": [{\"colorbar\": {\"outlinewidth\": 0, \"ticks\": \"\"}, \"colorscale\": [[0.0, \"#0d0887\"], [0.1111111111111111, \"#46039f\"], [0.2222222222222222, \"#7201a8\"], [0.3333333333333333, \"#9c179e\"], [0.4444444444444444, \"#bd3786\"], [0.5555555555555556, \"#d8576b\"], [0.6666666666666666, \"#ed7953\"], [0.7777777777777778, \"#fb9f3a\"], [0.8888888888888888, \"#fdca26\"], [1.0, \"#f0f921\"]], \"type\": \"contour\"}], \"contourcarpet\": [{\"colorbar\": {\"outlinewidth\": 0, \"ticks\": \"\"}, \"type\": \"contourcarpet\"}], \"heatmap\": [{\"colorbar\": {\"outlinewidth\": 0, \"ticks\": \"\"}, \"colorscale\": [[0.0, \"#0d0887\"], [0.1111111111111111, \"#46039f\"], [0.2222222222222222, \"#7201a8\"], [0.3333333333333333, \"#9c179e\"], [0.4444444444444444, \"#bd3786\"], [0.5555555555555556, \"#d8576b\"], [0.6666666666666666, \"#ed7953\"], [0.7777777777777778, \"#fb9f3a\"], [0.8888888888888888, \"#fdca26\"], [1.0, \"#f0f921\"]], \"type\": \"heatmap\"}], \"heatmapgl\": [{\"colorbar\": {\"outlinewidth\": 0, \"ticks\": \"\"}, \"colorscale\": [[0.0, \"#0d0887\"], [0.1111111111111111, \"#46039f\"], [0.2222222222222222, \"#7201a8\"], [0.3333333333333333, \"#9c179e\"], [0.4444444444444444, \"#bd3786\"], [0.5555555555555556, \"#d8576b\"], [0.6666666666666666, \"#ed7953\"], [0.7777777777777778, \"#fb9f3a\"], [0.8888888888888888, \"#fdca26\"], [1.0, \"#f0f921\"]], \"type\": \"heatmapgl\"}], \"histogram\": [{\"marker\": {\"colorbar\": {\"outlinewidth\": 0, \"ticks\": \"\"}}, \"type\": \"histogram\"}], \"histogram2d\": [{\"colorbar\": {\"outlinewidth\": 0, \"ticks\": \"\"}, \"colorscale\": [[0.0, \"#0d0887\"], [0.1111111111111111, \"#46039f\"], [0.2222222222222222, \"#7201a8\"], [0.3333333333333333, \"#9c179e\"], [0.4444444444444444, \"#bd3786\"], [0.5555555555555556, \"#d8576b\"], [0.6666666666666666, \"#ed7953\"], [0.7777777777777778, \"#fb9f3a\"], [0.8888888888888888, \"#fdca26\"], [1.0, \"#f0f921\"]], \"type\": \"histogram2d\"}], \"histogram2dcontour\": [{\"colorbar\": {\"outlinewidth\": 0, \"ticks\": \"\"}, \"colorscale\": [[0.0, \"#0d0887\"], [0.1111111111111111, \"#46039f\"], [0.2222222222222222, \"#7201a8\"], [0.3333333333333333, \"#9c179e\"], [0.4444444444444444, \"#bd3786\"], [0.5555555555555556, \"#d8576b\"], [0.6666666666666666, \"#ed7953\"], [0.7777777777777778, \"#fb9f3a\"], [0.8888888888888888, \"#fdca26\"], [1.0, \"#f0f921\"]], \"type\": \"histogram2dcontour\"}], \"mesh3d\": [{\"colorbar\": {\"outlinewidth\": 0, \"ticks\": \"\"}, \"type\": \"mesh3d\"}], \"parcoords\": [{\"line\": {\"colorbar\": {\"outlinewidth\": 0, \"ticks\": \"\"}}, \"type\": \"parcoords\"}], \"pie\": [{\"automargin\": true, \"type\": \"pie\"}], \"scatter\": [{\"marker\": {\"colorbar\": {\"outlinewidth\": 0, \"ticks\": \"\"}}, \"type\": \"scatter\"}], \"scatter3d\": [{\"line\": {\"colorbar\": {\"outlinewidth\": 0, \"ticks\": \"\"}}, \"marker\": {\"colorbar\": {\"outlinewidth\": 0, \"ticks\": \"\"}}, \"type\": \"scatter3d\"}], \"scattercarpet\": [{\"marker\": {\"colorbar\": {\"outlinewidth\": 0, \"ticks\": \"\"}}, \"type\": \"scattercarpet\"}], \"scattergeo\": [{\"marker\": {\"colorbar\": {\"outlinewidth\": 0, \"ticks\": \"\"}}, \"type\": \"scattergeo\"}], \"scattergl\": [{\"marker\": {\"colorbar\": {\"outlinewidth\": 0, \"ticks\": \"\"}}, \"type\": \"scattergl\"}], \"scattermapbox\": [{\"marker\": {\"colorbar\": {\"outlinewidth\": 0, \"ticks\": \"\"}}, \"type\": \"scattermapbox\"}], \"scatterpolar\": [{\"marker\": {\"colorbar\": {\"outlinewidth\": 0, \"ticks\": \"\"}}, \"type\": \"scatterpolar\"}], \"scatterpolargl\": [{\"marker\": {\"colorbar\": {\"outlinewidth\": 0, \"ticks\": \"\"}}, \"type\": \"scatterpolargl\"}], \"scatterternary\": [{\"marker\": {\"colorbar\": {\"outlinewidth\": 0, \"ticks\": \"\"}}, \"type\": \"scatterternary\"}], \"surface\": [{\"colorbar\": {\"outlinewidth\": 0, \"ticks\": \"\"}, \"colorscale\": [[0.0, \"#0d0887\"], [0.1111111111111111, \"#46039f\"], [0.2222222222222222, \"#7201a8\"], [0.3333333333333333, \"#9c179e\"], [0.4444444444444444, \"#bd3786\"], [0.5555555555555556, \"#d8576b\"], [0.6666666666666666, \"#ed7953\"], [0.7777777777777778, \"#fb9f3a\"], [0.8888888888888888, \"#fdca26\"], [1.0, \"#f0f921\"]], \"type\": \"surface\"}], \"table\": [{\"cells\": {\"fill\": {\"color\": \"#EBF0F8\"}, \"line\": {\"color\": \"white\"}}, \"header\": {\"fill\": {\"color\": \"#C8D4E3\"}, \"line\": {\"color\": \"white\"}}, \"type\": \"table\"}]}, \"layout\": {\"annotationdefaults\": {\"arrowcolor\": \"#2a3f5f\", \"arrowhead\": 0, \"arrowwidth\": 1}, \"coloraxis\": {\"colorbar\": {\"outlinewidth\": 0, \"ticks\": \"\"}}, \"colorscale\": {\"diverging\": [[0, \"#8e0152\"], [0.1, \"#c51b7d\"], [0.2, \"#de77ae\"], [0.3, \"#f1b6da\"], [0.4, \"#fde0ef\"], [0.5, \"#f7f7f7\"], [0.6, \"#e6f5d0\"], [0.7, \"#b8e186\"], [0.8, \"#7fbc41\"], [0.9, \"#4d9221\"], [1, \"#276419\"]], \"sequential\": [[0.0, \"#0d0887\"], [0.1111111111111111, \"#46039f\"], [0.2222222222222222, \"#7201a8\"], [0.3333333333333333, \"#9c179e\"], [0.4444444444444444, \"#bd3786\"], [0.5555555555555556, \"#d8576b\"], [0.6666666666666666, \"#ed7953\"], [0.7777777777777778, \"#fb9f3a\"], [0.8888888888888888, \"#fdca26\"], [1.0, \"#f0f921\"]], \"sequentialminus\": [[0.0, \"#0d0887\"], [0.1111111111111111, \"#46039f\"], [0.2222222222222222, \"#7201a8\"], [0.3333333333333333, \"#9c179e\"], [0.4444444444444444, \"#bd3786\"], [0.5555555555555556, \"#d8576b\"], [0.6666666666666666, \"#ed7953\"], [0.7777777777777778, \"#fb9f3a\"], [0.8888888888888888, \"#fdca26\"], [1.0, \"#f0f921\"]]}, \"colorway\": [\"#636efa\", \"#EF553B\", \"#00cc96\", \"#ab63fa\", \"#FFA15A\", \"#19d3f3\", \"#FF6692\", \"#B6E880\", \"#FF97FF\", \"#FECB52\"], \"font\": {\"color\": \"#2a3f5f\"}, \"geo\": {\"bgcolor\": \"white\", \"lakecolor\": \"white\", \"landcolor\": \"#E5ECF6\", \"showlakes\": true, \"showland\": true, \"subunitcolor\": \"white\"}, \"hoverlabel\": {\"align\": \"left\"}, \"hovermode\": \"closest\", \"mapbox\": {\"style\": \"light\"}, \"paper_bgcolor\": \"white\", \"plot_bgcolor\": \"#E5ECF6\", \"polar\": {\"angularaxis\": {\"gridcolor\": \"white\", \"linecolor\": \"white\", \"ticks\": \"\"}, \"bgcolor\": \"#E5ECF6\", \"radialaxis\": {\"gridcolor\": \"white\", \"linecolor\": \"white\", \"ticks\": \"\"}}, \"scene\": {\"xaxis\": {\"backgroundcolor\": \"#E5ECF6\", \"gridcolor\": \"white\", \"gridwidth\": 2, \"linecolor\": \"white\", \"showbackground\": true, \"ticks\": \"\", \"zerolinecolor\": \"white\"}, \"yaxis\": {\"backgroundcolor\": \"#E5ECF6\", \"gridcolor\": \"white\", \"gridwidth\": 2, \"linecolor\": \"white\", \"showbackground\": true, \"ticks\": \"\", \"zerolinecolor\": \"white\"}, \"zaxis\": {\"backgroundcolor\": \"#E5ECF6\", \"gridcolor\": \"white\", \"gridwidth\": 2, \"linecolor\": \"white\", \"showbackground\": true, \"ticks\": \"\", \"zerolinecolor\": \"white\"}}, \"shapedefaults\": {\"line\": {\"color\": \"#2a3f5f\"}}, \"ternary\": {\"aaxis\": {\"gridcolor\": \"white\", \"linecolor\": \"white\", \"ticks\": \"\"}, \"baxis\": {\"gridcolor\": \"white\", \"linecolor\": \"white\", \"ticks\": \"\"}, \"bgcolor\": \"#E5ECF6\", \"caxis\": {\"gridcolor\": \"white\", \"linecolor\": \"white\", \"ticks\": \"\"}}, \"title\": {\"x\": 0.05}, \"xaxis\": {\"automargin\": true, \"gridcolor\": \"white\", \"linecolor\": \"white\", \"ticks\": \"\", \"title\": {\"standoff\": 15}, \"zerolinecolor\": \"white\", \"zerolinewidth\": 2}, \"yaxis\": {\"automargin\": true, \"gridcolor\": \"white\", \"linecolor\": \"white\", \"ticks\": \"\", \"title\": {\"standoff\": 15}, \"zerolinecolor\": \"white\", \"zerolinewidth\": 2}}}, \"width\": 700, \"xaxis\": {\"title\": {\"text\": \"Epoch\"}}, \"yaxis\": {\"title\": {\"text\": \"Loss\"}}},\n",
              "                        {\"responsive\": true}\n",
              "                    ).then(function(){\n",
              "                            \n",
              "var gd = document.getElementById('3b12666b-ca5d-44b4-9879-d82f9f4eed67');\n",
              "var x = new MutationObserver(function (mutations, observer) {{\n",
              "        var display = window.getComputedStyle(gd).display;\n",
              "        if (!display || display === 'none') {{\n",
              "            console.log([gd, 'removed!']);\n",
              "            Plotly.purge(gd);\n",
              "            observer.disconnect();\n",
              "        }}\n",
              "}});\n",
              "\n",
              "// Listen for the removal of the full notebook cells\n",
              "var notebookContainer = gd.closest('#notebook-container');\n",
              "if (notebookContainer) {{\n",
              "    x.observe(notebookContainer, {childList: true});\n",
              "}}\n",
              "\n",
              "// Listen for the clearing of the current output cell\n",
              "var outputEl = gd.closest('.output');\n",
              "if (outputEl) {{\n",
              "    x.observe(outputEl, {childList: true});\n",
              "}}\n",
              "\n",
              "                        })\n",
              "                };\n",
              "                \n",
              "            </script>\n",
              "        </div>\n",
              "</body>\n",
              "</html>"
            ]
          },
          "metadata": {
            "tags": []
          }
        }
      ]
    },
    {
      "cell_type": "code",
      "metadata": {
        "id": "4k4MJj6TnPEp",
        "colab": {
          "base_uri": "https://localhost:8080/"
        },
        "outputId": "cfa959a6-75e4-4dad-ae1a-d8572ca917d0"
      },
      "source": [
        "mse_nn, mae_nn = model.evaluate(X_test, y_test)\r\n",
        "\r\n",
        "print('Mean squared error on test data: ', mse_nn)\r\n",
        "print('Mean absolute error on test data: ', mae_nn)"
      ],
      "execution_count": 17,
      "outputs": [
        {
          "output_type": "stream",
          "text": [
            "105/105 [==============================] - 0s 1ms/step - loss: 0.0057 - mae: 0.0463\n",
            "Mean squared error on test data:  0.0056900037452578545\n",
            "Mean absolute error on test data:  0.04626750573515892\n"
          ],
          "name": "stdout"
        }
      ]
    },
    {
      "cell_type": "markdown",
      "metadata": {
        "id": "OTAdv4praGsG"
      },
      "source": [
        "**GRNN APPLICATION:** #NOTES\r\n",
        "\r\n",
        "\r\n",
        "GRNN is an adaptation in terms of neural network of the Nadaraya-Watson estimator, with which the general regression of a scalar on a vector independent variable is computed as a locally weighted average with a kernel as a weighting function. The main advantage of this algorithm is that its calibration only requires the definition of a proper bandwidth for the kernel estimation. Hence, GRNN is faster than other feedforward artificial neural network algorithms.\r\n",
        "\r\n",
        "\r\n",
        "*   GRNN Network is sensitive for cases when one input feature has higher values than the other one. Input data has to be normalized before training.\r\n",
        "\r\n",
        "*   Standard deviation has to match the range of the input features Check std parameter description for more information.\r\n",
        "\r\n",
        "\r\n",
        "\r\n",
        "*   Network uses lazy learning which mean that network doesn’t need iterative training. It just stores parameters and use them to make a predictions.\r\n",
        "\r\n",
        "*   The bigger training dataset the slower prediction. Algorithm is much more efficient for small datasets.\r\n",
        "\r\n",
        "\r\n",
        "\r\n"
      ]
    },
    {
      "cell_type": "code",
      "metadata": {
        "id": "ym2jtWSWoK1Z",
        "colab": {
          "base_uri": "https://localhost:8080/"
        },
        "outputId": "85e57200-98a2-403c-8535-b6cffcbb912a"
      },
      "source": [
        "#----------------------------METHOD 1-----------------------------\r\n",
        "!pip install pyGRNN"
      ],
      "execution_count": 19,
      "outputs": [
        {
          "output_type": "stream",
          "text": [
            "Collecting pyGRNN\n",
            "  Downloading https://files.pythonhosted.org/packages/c9/57/8ed5b90f5cd7f3effc898e7752f6a4616f994bd21953ddf50a6a942bb994/pyGRNN-v0.1.tar.gz\n",
            "Requirement already satisfied: pandas in /usr/local/lib/python3.6/dist-packages (from pyGRNN) (1.1.5)\n",
            "Requirement already satisfied: numpy in /usr/local/lib/python3.6/dist-packages (from pyGRNN) (1.19.4)\n",
            "Requirement already satisfied: seaborn in /usr/local/lib/python3.6/dist-packages (from pyGRNN) (0.11.0)\n",
            "Requirement already satisfied: scikit-learn in /usr/local/lib/python3.6/dist-packages (from pyGRNN) (0.22.2.post1)\n",
            "Requirement already satisfied: matplotlib in /usr/local/lib/python3.6/dist-packages (from pyGRNN) (3.2.2)\n",
            "Requirement already satisfied: scipy in /usr/local/lib/python3.6/dist-packages (from pyGRNN) (1.4.1)\n",
            "Requirement already satisfied: pytz>=2017.2 in /usr/local/lib/python3.6/dist-packages (from pandas->pyGRNN) (2018.9)\n",
            "Requirement already satisfied: python-dateutil>=2.7.3 in /usr/local/lib/python3.6/dist-packages (from pandas->pyGRNN) (2.8.1)\n",
            "Requirement already satisfied: joblib>=0.11 in /usr/local/lib/python3.6/dist-packages (from scikit-learn->pyGRNN) (1.0.0)\n",
            "Requirement already satisfied: pyparsing!=2.0.4,!=2.1.2,!=2.1.6,>=2.0.1 in /usr/local/lib/python3.6/dist-packages (from matplotlib->pyGRNN) (2.4.7)\n",
            "Requirement already satisfied: kiwisolver>=1.0.1 in /usr/local/lib/python3.6/dist-packages (from matplotlib->pyGRNN) (1.3.1)\n",
            "Requirement already satisfied: cycler>=0.10 in /usr/local/lib/python3.6/dist-packages (from matplotlib->pyGRNN) (0.10.0)\n",
            "Requirement already satisfied: six>=1.5 in /usr/local/lib/python3.6/dist-packages (from python-dateutil>=2.7.3->pandas->pyGRNN) (1.15.0)\n",
            "Building wheels for collected packages: pyGRNN\n",
            "  Building wheel for pyGRNN (setup.py) ... \u001b[?25l\u001b[?25hdone\n",
            "  Created wheel for pyGRNN: filename=pyGRNN-0.1-cp36-none-any.whl size=11514 sha256=14197afb71255bcd0a3f80e11853b772f8382353a4a6fe5a083bc865f5fcfda8\n",
            "  Stored in directory: /root/.cache/pip/wheels/8d/8f/70/6444a53fee4d72862fe76fff1987ce58a5d54d7a9fa20a4641\n",
            "Successfully built pyGRNN\n",
            "Installing collected packages: pyGRNN\n",
            "Successfully installed pyGRNN-0.1\n"
          ],
          "name": "stdout"
        }
      ]
    },
    {
      "cell_type": "code",
      "metadata": {
        "id": "pgoEIm3LoOxB"
      },
      "source": [
        "from sklearn.model_selection import  GridSearchCV\r\n",
        "from sklearn.metrics import mean_squared_error as MSE\r\n",
        "from pyGRNN import GRNN\r\n",
        "from sklearn import preprocessing\r\n",
        "\r\n",
        "\r\n",
        "# Example 1: use Isotropic GRNN with a Grid Search Cross validation to select the optimal bandwidth\r\n",
        "IGRNN = GRNN(bnds=(0, None), calibration='None', kernel='RBF', method='L-BFGS-B',\r\n",
        "     n_restarts_optimizer=0, n_splits=5, seed=42, sigma=3.989999999999998)  #best model found by GridCVSearch\r\n",
        "\r\n",
        "IGRNN.fit(X_train, y_train.ravel())\r\n",
        "y_pred = IGRNN.predict(X_test)\r\n",
        "mse_IGRNN = MSE(y_test, y_pred)"
      ],
      "execution_count": 37,
      "outputs": []
    },
    {
      "cell_type": "code",
      "metadata": {
        "colab": {
          "base_uri": "https://localhost:8080/",
          "height": 423
        },
        "id": "Iq_OF-mtQH8Q",
        "outputId": "3192b176-6762-4248-bd1e-fe99762a29d1"
      },
      "source": [
        "#Grid CV Search part to find the best model\r\n",
        "params_IGRNN = {'kernel':[\"RBF\"],\r\n",
        "                'sigma' : list(np.arange(0.1, 4, 0.01)),\r\n",
        "                'calibration' : ['None']\r\n",
        "                 }\r\n",
        "grid_IGRNN = GridSearchCV(estimator=IGRNN,\r\n",
        "                          param_grid=params_IGRNN,\r\n",
        "                          scoring='neg_mean_squared_error',\r\n",
        "                          cv=5,\r\n",
        "                          verbose=1\r\n",
        "                          )\r\n",
        "grid_IGRNN.fit(X_train, y_train.ravel())\r\n",
        "best_model = grid_IGRNN.best_estimator_\r\n",
        "y_pred = best_model.predict(X_test)"
      ],
      "execution_count": 38,
      "outputs": [
        {
          "output_type": "stream",
          "text": [
            "Fitting 5 folds for each of 390 candidates, totalling 1950 fits\n"
          ],
          "name": "stdout"
        },
        {
          "output_type": "stream",
          "text": [
            "[Parallel(n_jobs=1)]: Using backend SequentialBackend with 1 concurrent workers.\n"
          ],
          "name": "stderr"
        },
        {
          "output_type": "error",
          "ename": "KeyboardInterrupt",
          "evalue": "ignored",
          "traceback": [
            "\u001b[0;31m---------------------------------------------------------------------------\u001b[0m",
            "\u001b[0;31mKeyboardInterrupt\u001b[0m                         Traceback (most recent call last)",
            "\u001b[0;32m<ipython-input-38-e2165b977c3b>\u001b[0m in \u001b[0;36m<module>\u001b[0;34m()\u001b[0m\n\u001b[1;32m     10\u001b[0m                           \u001b[0mverbose\u001b[0m\u001b[0;34m=\u001b[0m\u001b[0;36m1\u001b[0m\u001b[0;34m\u001b[0m\u001b[0;34m\u001b[0m\u001b[0m\n\u001b[1;32m     11\u001b[0m                           )\n\u001b[0;32m---> 12\u001b[0;31m \u001b[0mgrid_IGRNN\u001b[0m\u001b[0;34m.\u001b[0m\u001b[0mfit\u001b[0m\u001b[0;34m(\u001b[0m\u001b[0mX_train\u001b[0m\u001b[0;34m,\u001b[0m \u001b[0my_train\u001b[0m\u001b[0;34m.\u001b[0m\u001b[0mravel\u001b[0m\u001b[0;34m(\u001b[0m\u001b[0;34m)\u001b[0m\u001b[0;34m)\u001b[0m\u001b[0;34m\u001b[0m\u001b[0;34m\u001b[0m\u001b[0m\n\u001b[0m\u001b[1;32m     13\u001b[0m \u001b[0mbest_model\u001b[0m \u001b[0;34m=\u001b[0m \u001b[0mgrid_IGRNN\u001b[0m\u001b[0;34m.\u001b[0m\u001b[0mbest_estimator_\u001b[0m\u001b[0;34m\u001b[0m\u001b[0;34m\u001b[0m\u001b[0m\n\u001b[1;32m     14\u001b[0m \u001b[0my_pred\u001b[0m \u001b[0;34m=\u001b[0m \u001b[0mbest_model\u001b[0m\u001b[0;34m.\u001b[0m\u001b[0mpredict\u001b[0m\u001b[0;34m(\u001b[0m\u001b[0mX_test\u001b[0m\u001b[0;34m)\u001b[0m\u001b[0;34m\u001b[0m\u001b[0;34m\u001b[0m\u001b[0m\n",
            "\u001b[0;32m/usr/local/lib/python3.6/dist-packages/sklearn/model_selection/_search.py\u001b[0m in \u001b[0;36mfit\u001b[0;34m(self, X, y, groups, **fit_params)\u001b[0m\n\u001b[1;32m    708\u001b[0m                 \u001b[0;32mreturn\u001b[0m \u001b[0mresults\u001b[0m\u001b[0;34m\u001b[0m\u001b[0;34m\u001b[0m\u001b[0m\n\u001b[1;32m    709\u001b[0m \u001b[0;34m\u001b[0m\u001b[0m\n\u001b[0;32m--> 710\u001b[0;31m             \u001b[0mself\u001b[0m\u001b[0;34m.\u001b[0m\u001b[0m_run_search\u001b[0m\u001b[0;34m(\u001b[0m\u001b[0mevaluate_candidates\u001b[0m\u001b[0;34m)\u001b[0m\u001b[0;34m\u001b[0m\u001b[0;34m\u001b[0m\u001b[0m\n\u001b[0m\u001b[1;32m    711\u001b[0m \u001b[0;34m\u001b[0m\u001b[0m\n\u001b[1;32m    712\u001b[0m         \u001b[0;31m# For multi-metric evaluation, store the best_index_, best_params_ and\u001b[0m\u001b[0;34m\u001b[0m\u001b[0;34m\u001b[0m\u001b[0;34m\u001b[0m\u001b[0m\n",
            "\u001b[0;32m/usr/local/lib/python3.6/dist-packages/sklearn/model_selection/_search.py\u001b[0m in \u001b[0;36m_run_search\u001b[0;34m(self, evaluate_candidates)\u001b[0m\n\u001b[1;32m   1149\u001b[0m     \u001b[0;32mdef\u001b[0m \u001b[0m_run_search\u001b[0m\u001b[0;34m(\u001b[0m\u001b[0mself\u001b[0m\u001b[0;34m,\u001b[0m \u001b[0mevaluate_candidates\u001b[0m\u001b[0;34m)\u001b[0m\u001b[0;34m:\u001b[0m\u001b[0;34m\u001b[0m\u001b[0;34m\u001b[0m\u001b[0m\n\u001b[1;32m   1150\u001b[0m         \u001b[0;34m\"\"\"Search all candidates in param_grid\"\"\"\u001b[0m\u001b[0;34m\u001b[0m\u001b[0;34m\u001b[0m\u001b[0m\n\u001b[0;32m-> 1151\u001b[0;31m         \u001b[0mevaluate_candidates\u001b[0m\u001b[0;34m(\u001b[0m\u001b[0mParameterGrid\u001b[0m\u001b[0;34m(\u001b[0m\u001b[0mself\u001b[0m\u001b[0;34m.\u001b[0m\u001b[0mparam_grid\u001b[0m\u001b[0;34m)\u001b[0m\u001b[0;34m)\u001b[0m\u001b[0;34m\u001b[0m\u001b[0;34m\u001b[0m\u001b[0m\n\u001b[0m\u001b[1;32m   1152\u001b[0m \u001b[0;34m\u001b[0m\u001b[0m\n\u001b[1;32m   1153\u001b[0m \u001b[0;34m\u001b[0m\u001b[0m\n",
            "\u001b[0;32m/usr/local/lib/python3.6/dist-packages/sklearn/model_selection/_search.py\u001b[0m in \u001b[0;36mevaluate_candidates\u001b[0;34m(candidate_params)\u001b[0m\n\u001b[1;32m    687\u001b[0m                                \u001b[0;32mfor\u001b[0m \u001b[0mparameters\u001b[0m\u001b[0;34m,\u001b[0m \u001b[0;34m(\u001b[0m\u001b[0mtrain\u001b[0m\u001b[0;34m,\u001b[0m \u001b[0mtest\u001b[0m\u001b[0;34m)\u001b[0m\u001b[0;34m\u001b[0m\u001b[0;34m\u001b[0m\u001b[0m\n\u001b[1;32m    688\u001b[0m                                in product(candidate_params,\n\u001b[0;32m--> 689\u001b[0;31m                                           cv.split(X, y, groups)))\n\u001b[0m\u001b[1;32m    690\u001b[0m \u001b[0;34m\u001b[0m\u001b[0m\n\u001b[1;32m    691\u001b[0m                 \u001b[0;32mif\u001b[0m \u001b[0mlen\u001b[0m\u001b[0;34m(\u001b[0m\u001b[0mout\u001b[0m\u001b[0;34m)\u001b[0m \u001b[0;34m<\u001b[0m \u001b[0;36m1\u001b[0m\u001b[0;34m:\u001b[0m\u001b[0;34m\u001b[0m\u001b[0;34m\u001b[0m\u001b[0m\n",
            "\u001b[0;32m/usr/local/lib/python3.6/dist-packages/joblib/parallel.py\u001b[0m in \u001b[0;36m__call__\u001b[0;34m(self, iterable)\u001b[0m\n\u001b[1;32m   1042\u001b[0m                 \u001b[0mself\u001b[0m\u001b[0;34m.\u001b[0m\u001b[0m_iterating\u001b[0m \u001b[0;34m=\u001b[0m \u001b[0mself\u001b[0m\u001b[0;34m.\u001b[0m\u001b[0m_original_iterator\u001b[0m \u001b[0;32mis\u001b[0m \u001b[0;32mnot\u001b[0m \u001b[0;32mNone\u001b[0m\u001b[0;34m\u001b[0m\u001b[0;34m\u001b[0m\u001b[0m\n\u001b[1;32m   1043\u001b[0m \u001b[0;34m\u001b[0m\u001b[0m\n\u001b[0;32m-> 1044\u001b[0;31m             \u001b[0;32mwhile\u001b[0m \u001b[0mself\u001b[0m\u001b[0;34m.\u001b[0m\u001b[0mdispatch_one_batch\u001b[0m\u001b[0;34m(\u001b[0m\u001b[0miterator\u001b[0m\u001b[0;34m)\u001b[0m\u001b[0;34m:\u001b[0m\u001b[0;34m\u001b[0m\u001b[0;34m\u001b[0m\u001b[0m\n\u001b[0m\u001b[1;32m   1045\u001b[0m                 \u001b[0;32mpass\u001b[0m\u001b[0;34m\u001b[0m\u001b[0;34m\u001b[0m\u001b[0m\n\u001b[1;32m   1046\u001b[0m \u001b[0;34m\u001b[0m\u001b[0m\n",
            "\u001b[0;32m/usr/local/lib/python3.6/dist-packages/joblib/parallel.py\u001b[0m in \u001b[0;36mdispatch_one_batch\u001b[0;34m(self, iterator)\u001b[0m\n\u001b[1;32m    857\u001b[0m                 \u001b[0;32mreturn\u001b[0m \u001b[0;32mFalse\u001b[0m\u001b[0;34m\u001b[0m\u001b[0;34m\u001b[0m\u001b[0m\n\u001b[1;32m    858\u001b[0m             \u001b[0;32melse\u001b[0m\u001b[0;34m:\u001b[0m\u001b[0;34m\u001b[0m\u001b[0;34m\u001b[0m\u001b[0m\n\u001b[0;32m--> 859\u001b[0;31m                 \u001b[0mself\u001b[0m\u001b[0;34m.\u001b[0m\u001b[0m_dispatch\u001b[0m\u001b[0;34m(\u001b[0m\u001b[0mtasks\u001b[0m\u001b[0;34m)\u001b[0m\u001b[0;34m\u001b[0m\u001b[0;34m\u001b[0m\u001b[0m\n\u001b[0m\u001b[1;32m    860\u001b[0m                 \u001b[0;32mreturn\u001b[0m \u001b[0;32mTrue\u001b[0m\u001b[0;34m\u001b[0m\u001b[0;34m\u001b[0m\u001b[0m\n\u001b[1;32m    861\u001b[0m \u001b[0;34m\u001b[0m\u001b[0m\n",
            "\u001b[0;32m/usr/local/lib/python3.6/dist-packages/joblib/parallel.py\u001b[0m in \u001b[0;36m_dispatch\u001b[0;34m(self, batch)\u001b[0m\n\u001b[1;32m    775\u001b[0m         \u001b[0;32mwith\u001b[0m \u001b[0mself\u001b[0m\u001b[0;34m.\u001b[0m\u001b[0m_lock\u001b[0m\u001b[0;34m:\u001b[0m\u001b[0;34m\u001b[0m\u001b[0;34m\u001b[0m\u001b[0m\n\u001b[1;32m    776\u001b[0m             \u001b[0mjob_idx\u001b[0m \u001b[0;34m=\u001b[0m \u001b[0mlen\u001b[0m\u001b[0;34m(\u001b[0m\u001b[0mself\u001b[0m\u001b[0;34m.\u001b[0m\u001b[0m_jobs\u001b[0m\u001b[0;34m)\u001b[0m\u001b[0;34m\u001b[0m\u001b[0;34m\u001b[0m\u001b[0m\n\u001b[0;32m--> 777\u001b[0;31m             \u001b[0mjob\u001b[0m \u001b[0;34m=\u001b[0m \u001b[0mself\u001b[0m\u001b[0;34m.\u001b[0m\u001b[0m_backend\u001b[0m\u001b[0;34m.\u001b[0m\u001b[0mapply_async\u001b[0m\u001b[0;34m(\u001b[0m\u001b[0mbatch\u001b[0m\u001b[0;34m,\u001b[0m \u001b[0mcallback\u001b[0m\u001b[0;34m=\u001b[0m\u001b[0mcb\u001b[0m\u001b[0;34m)\u001b[0m\u001b[0;34m\u001b[0m\u001b[0;34m\u001b[0m\u001b[0m\n\u001b[0m\u001b[1;32m    778\u001b[0m             \u001b[0;31m# A job can complete so quickly than its callback is\u001b[0m\u001b[0;34m\u001b[0m\u001b[0;34m\u001b[0m\u001b[0;34m\u001b[0m\u001b[0m\n\u001b[1;32m    779\u001b[0m             \u001b[0;31m# called before we get here, causing self._jobs to\u001b[0m\u001b[0;34m\u001b[0m\u001b[0;34m\u001b[0m\u001b[0;34m\u001b[0m\u001b[0m\n",
            "\u001b[0;32m/usr/local/lib/python3.6/dist-packages/joblib/_parallel_backends.py\u001b[0m in \u001b[0;36mapply_async\u001b[0;34m(self, func, callback)\u001b[0m\n\u001b[1;32m    206\u001b[0m     \u001b[0;32mdef\u001b[0m \u001b[0mapply_async\u001b[0m\u001b[0;34m(\u001b[0m\u001b[0mself\u001b[0m\u001b[0;34m,\u001b[0m \u001b[0mfunc\u001b[0m\u001b[0;34m,\u001b[0m \u001b[0mcallback\u001b[0m\u001b[0;34m=\u001b[0m\u001b[0;32mNone\u001b[0m\u001b[0;34m)\u001b[0m\u001b[0;34m:\u001b[0m\u001b[0;34m\u001b[0m\u001b[0;34m\u001b[0m\u001b[0m\n\u001b[1;32m    207\u001b[0m         \u001b[0;34m\"\"\"Schedule a func to be run\"\"\"\u001b[0m\u001b[0;34m\u001b[0m\u001b[0;34m\u001b[0m\u001b[0m\n\u001b[0;32m--> 208\u001b[0;31m         \u001b[0mresult\u001b[0m \u001b[0;34m=\u001b[0m \u001b[0mImmediateResult\u001b[0m\u001b[0;34m(\u001b[0m\u001b[0mfunc\u001b[0m\u001b[0;34m)\u001b[0m\u001b[0;34m\u001b[0m\u001b[0;34m\u001b[0m\u001b[0m\n\u001b[0m\u001b[1;32m    209\u001b[0m         \u001b[0;32mif\u001b[0m \u001b[0mcallback\u001b[0m\u001b[0;34m:\u001b[0m\u001b[0;34m\u001b[0m\u001b[0;34m\u001b[0m\u001b[0m\n\u001b[1;32m    210\u001b[0m             \u001b[0mcallback\u001b[0m\u001b[0;34m(\u001b[0m\u001b[0mresult\u001b[0m\u001b[0;34m)\u001b[0m\u001b[0;34m\u001b[0m\u001b[0;34m\u001b[0m\u001b[0m\n",
            "\u001b[0;32m/usr/local/lib/python3.6/dist-packages/joblib/_parallel_backends.py\u001b[0m in \u001b[0;36m__init__\u001b[0;34m(self, batch)\u001b[0m\n\u001b[1;32m    570\u001b[0m         \u001b[0;31m# Don't delay the application, to avoid keeping the input\u001b[0m\u001b[0;34m\u001b[0m\u001b[0;34m\u001b[0m\u001b[0;34m\u001b[0m\u001b[0m\n\u001b[1;32m    571\u001b[0m         \u001b[0;31m# arguments in memory\u001b[0m\u001b[0;34m\u001b[0m\u001b[0;34m\u001b[0m\u001b[0;34m\u001b[0m\u001b[0m\n\u001b[0;32m--> 572\u001b[0;31m         \u001b[0mself\u001b[0m\u001b[0;34m.\u001b[0m\u001b[0mresults\u001b[0m \u001b[0;34m=\u001b[0m \u001b[0mbatch\u001b[0m\u001b[0;34m(\u001b[0m\u001b[0;34m)\u001b[0m\u001b[0;34m\u001b[0m\u001b[0;34m\u001b[0m\u001b[0m\n\u001b[0m\u001b[1;32m    573\u001b[0m \u001b[0;34m\u001b[0m\u001b[0m\n\u001b[1;32m    574\u001b[0m     \u001b[0;32mdef\u001b[0m \u001b[0mget\u001b[0m\u001b[0;34m(\u001b[0m\u001b[0mself\u001b[0m\u001b[0;34m)\u001b[0m\u001b[0;34m:\u001b[0m\u001b[0;34m\u001b[0m\u001b[0;34m\u001b[0m\u001b[0m\n",
            "\u001b[0;32m/usr/local/lib/python3.6/dist-packages/joblib/parallel.py\u001b[0m in \u001b[0;36m__call__\u001b[0;34m(self)\u001b[0m\n\u001b[1;32m    261\u001b[0m         \u001b[0;32mwith\u001b[0m \u001b[0mparallel_backend\u001b[0m\u001b[0;34m(\u001b[0m\u001b[0mself\u001b[0m\u001b[0;34m.\u001b[0m\u001b[0m_backend\u001b[0m\u001b[0;34m,\u001b[0m \u001b[0mn_jobs\u001b[0m\u001b[0;34m=\u001b[0m\u001b[0mself\u001b[0m\u001b[0;34m.\u001b[0m\u001b[0m_n_jobs\u001b[0m\u001b[0;34m)\u001b[0m\u001b[0;34m:\u001b[0m\u001b[0;34m\u001b[0m\u001b[0;34m\u001b[0m\u001b[0m\n\u001b[1;32m    262\u001b[0m             return [func(*args, **kwargs)\n\u001b[0;32m--> 263\u001b[0;31m                     for func, args, kwargs in self.items]\n\u001b[0m\u001b[1;32m    264\u001b[0m \u001b[0;34m\u001b[0m\u001b[0m\n\u001b[1;32m    265\u001b[0m     \u001b[0;32mdef\u001b[0m \u001b[0m__reduce__\u001b[0m\u001b[0;34m(\u001b[0m\u001b[0mself\u001b[0m\u001b[0;34m)\u001b[0m\u001b[0;34m:\u001b[0m\u001b[0;34m\u001b[0m\u001b[0;34m\u001b[0m\u001b[0m\n",
            "\u001b[0;32m/usr/local/lib/python3.6/dist-packages/joblib/parallel.py\u001b[0m in \u001b[0;36m<listcomp>\u001b[0;34m(.0)\u001b[0m\n\u001b[1;32m    261\u001b[0m         \u001b[0;32mwith\u001b[0m \u001b[0mparallel_backend\u001b[0m\u001b[0;34m(\u001b[0m\u001b[0mself\u001b[0m\u001b[0;34m.\u001b[0m\u001b[0m_backend\u001b[0m\u001b[0;34m,\u001b[0m \u001b[0mn_jobs\u001b[0m\u001b[0;34m=\u001b[0m\u001b[0mself\u001b[0m\u001b[0;34m.\u001b[0m\u001b[0m_n_jobs\u001b[0m\u001b[0;34m)\u001b[0m\u001b[0;34m:\u001b[0m\u001b[0;34m\u001b[0m\u001b[0;34m\u001b[0m\u001b[0m\n\u001b[1;32m    262\u001b[0m             return [func(*args, **kwargs)\n\u001b[0;32m--> 263\u001b[0;31m                     for func, args, kwargs in self.items]\n\u001b[0m\u001b[1;32m    264\u001b[0m \u001b[0;34m\u001b[0m\u001b[0m\n\u001b[1;32m    265\u001b[0m     \u001b[0;32mdef\u001b[0m \u001b[0m__reduce__\u001b[0m\u001b[0;34m(\u001b[0m\u001b[0mself\u001b[0m\u001b[0;34m)\u001b[0m\u001b[0;34m:\u001b[0m\u001b[0;34m\u001b[0m\u001b[0;34m\u001b[0m\u001b[0m\n",
            "\u001b[0;32m/usr/local/lib/python3.6/dist-packages/sklearn/model_selection/_validation.py\u001b[0m in \u001b[0;36m_fit_and_score\u001b[0;34m(estimator, X, y, scorer, train, test, verbose, parameters, fit_params, return_train_score, return_parameters, return_n_test_samples, return_times, return_estimator, error_score)\u001b[0m\n\u001b[1;32m    542\u001b[0m     \u001b[0;32melse\u001b[0m\u001b[0;34m:\u001b[0m\u001b[0;34m\u001b[0m\u001b[0;34m\u001b[0m\u001b[0m\n\u001b[1;32m    543\u001b[0m         \u001b[0mfit_time\u001b[0m \u001b[0;34m=\u001b[0m \u001b[0mtime\u001b[0m\u001b[0;34m.\u001b[0m\u001b[0mtime\u001b[0m\u001b[0;34m(\u001b[0m\u001b[0;34m)\u001b[0m \u001b[0;34m-\u001b[0m \u001b[0mstart_time\u001b[0m\u001b[0;34m\u001b[0m\u001b[0;34m\u001b[0m\u001b[0m\n\u001b[0;32m--> 544\u001b[0;31m         \u001b[0mtest_scores\u001b[0m \u001b[0;34m=\u001b[0m \u001b[0m_score\u001b[0m\u001b[0;34m(\u001b[0m\u001b[0mestimator\u001b[0m\u001b[0;34m,\u001b[0m \u001b[0mX_test\u001b[0m\u001b[0;34m,\u001b[0m \u001b[0my_test\u001b[0m\u001b[0;34m,\u001b[0m \u001b[0mscorer\u001b[0m\u001b[0;34m)\u001b[0m\u001b[0;34m\u001b[0m\u001b[0;34m\u001b[0m\u001b[0m\n\u001b[0m\u001b[1;32m    545\u001b[0m         \u001b[0mscore_time\u001b[0m \u001b[0;34m=\u001b[0m \u001b[0mtime\u001b[0m\u001b[0;34m.\u001b[0m\u001b[0mtime\u001b[0m\u001b[0;34m(\u001b[0m\u001b[0;34m)\u001b[0m \u001b[0;34m-\u001b[0m \u001b[0mstart_time\u001b[0m \u001b[0;34m-\u001b[0m \u001b[0mfit_time\u001b[0m\u001b[0;34m\u001b[0m\u001b[0;34m\u001b[0m\u001b[0m\n\u001b[1;32m    546\u001b[0m         \u001b[0;32mif\u001b[0m \u001b[0mreturn_train_score\u001b[0m\u001b[0;34m:\u001b[0m\u001b[0;34m\u001b[0m\u001b[0;34m\u001b[0m\u001b[0m\n",
            "\u001b[0;32m/usr/local/lib/python3.6/dist-packages/sklearn/model_selection/_validation.py\u001b[0m in \u001b[0;36m_score\u001b[0;34m(estimator, X_test, y_test, scorer)\u001b[0m\n\u001b[1;32m    589\u001b[0m         \u001b[0mscores\u001b[0m \u001b[0;34m=\u001b[0m \u001b[0mscorer\u001b[0m\u001b[0;34m(\u001b[0m\u001b[0mestimator\u001b[0m\u001b[0;34m,\u001b[0m \u001b[0mX_test\u001b[0m\u001b[0;34m)\u001b[0m\u001b[0;34m\u001b[0m\u001b[0;34m\u001b[0m\u001b[0m\n\u001b[1;32m    590\u001b[0m     \u001b[0;32melse\u001b[0m\u001b[0;34m:\u001b[0m\u001b[0;34m\u001b[0m\u001b[0;34m\u001b[0m\u001b[0m\n\u001b[0;32m--> 591\u001b[0;31m         \u001b[0mscores\u001b[0m \u001b[0;34m=\u001b[0m \u001b[0mscorer\u001b[0m\u001b[0;34m(\u001b[0m\u001b[0mestimator\u001b[0m\u001b[0;34m,\u001b[0m \u001b[0mX_test\u001b[0m\u001b[0;34m,\u001b[0m \u001b[0my_test\u001b[0m\u001b[0;34m)\u001b[0m\u001b[0;34m\u001b[0m\u001b[0;34m\u001b[0m\u001b[0m\n\u001b[0m\u001b[1;32m    592\u001b[0m \u001b[0;34m\u001b[0m\u001b[0m\n\u001b[1;32m    593\u001b[0m     error_msg = (\"scoring must return a number, got %s (%s) \"\n",
            "\u001b[0;32m/usr/local/lib/python3.6/dist-packages/sklearn/metrics/_scorer.py\u001b[0m in \u001b[0;36m__call__\u001b[0;34m(self, estimator, *args, **kwargs)\u001b[0m\n\u001b[1;32m     85\u001b[0m             \u001b[0;32mif\u001b[0m \u001b[0misinstance\u001b[0m\u001b[0;34m(\u001b[0m\u001b[0mscorer\u001b[0m\u001b[0;34m,\u001b[0m \u001b[0m_BaseScorer\u001b[0m\u001b[0;34m)\u001b[0m\u001b[0;34m:\u001b[0m\u001b[0;34m\u001b[0m\u001b[0;34m\u001b[0m\u001b[0m\n\u001b[1;32m     86\u001b[0m                 score = scorer._score(cached_call, estimator,\n\u001b[0;32m---> 87\u001b[0;31m                                       *args, **kwargs)\n\u001b[0m\u001b[1;32m     88\u001b[0m             \u001b[0;32melse\u001b[0m\u001b[0;34m:\u001b[0m\u001b[0;34m\u001b[0m\u001b[0;34m\u001b[0m\u001b[0m\n\u001b[1;32m     89\u001b[0m                 \u001b[0mscore\u001b[0m \u001b[0;34m=\u001b[0m \u001b[0mscorer\u001b[0m\u001b[0;34m(\u001b[0m\u001b[0mestimator\u001b[0m\u001b[0;34m,\u001b[0m \u001b[0;34m*\u001b[0m\u001b[0margs\u001b[0m\u001b[0;34m,\u001b[0m \u001b[0;34m**\u001b[0m\u001b[0mkwargs\u001b[0m\u001b[0;34m)\u001b[0m\u001b[0;34m\u001b[0m\u001b[0;34m\u001b[0m\u001b[0m\n",
            "\u001b[0;32m/usr/local/lib/python3.6/dist-packages/sklearn/metrics/_scorer.py\u001b[0m in \u001b[0;36m_score\u001b[0;34m(self, method_caller, estimator, X, y_true, sample_weight)\u001b[0m\n\u001b[1;32m    203\u001b[0m         \"\"\"\n\u001b[1;32m    204\u001b[0m \u001b[0;34m\u001b[0m\u001b[0m\n\u001b[0;32m--> 205\u001b[0;31m         \u001b[0my_pred\u001b[0m \u001b[0;34m=\u001b[0m \u001b[0mmethod_caller\u001b[0m\u001b[0;34m(\u001b[0m\u001b[0mestimator\u001b[0m\u001b[0;34m,\u001b[0m \u001b[0;34m\"predict\"\u001b[0m\u001b[0;34m,\u001b[0m \u001b[0mX\u001b[0m\u001b[0;34m)\u001b[0m\u001b[0;34m\u001b[0m\u001b[0;34m\u001b[0m\u001b[0m\n\u001b[0m\u001b[1;32m    206\u001b[0m         \u001b[0;32mif\u001b[0m \u001b[0msample_weight\u001b[0m \u001b[0;32mis\u001b[0m \u001b[0;32mnot\u001b[0m \u001b[0;32mNone\u001b[0m\u001b[0;34m:\u001b[0m\u001b[0;34m\u001b[0m\u001b[0;34m\u001b[0m\u001b[0m\n\u001b[1;32m    207\u001b[0m             return self._sign * self._score_func(y_true, y_pred,\n",
            "\u001b[0;32m/usr/local/lib/python3.6/dist-packages/sklearn/metrics/_scorer.py\u001b[0m in \u001b[0;36m_cached_call\u001b[0;34m(cache, estimator, method, *args, **kwargs)\u001b[0m\n\u001b[1;32m     50\u001b[0m     \u001b[0;34m\"\"\"Call estimator with method and args and kwargs.\"\"\"\u001b[0m\u001b[0;34m\u001b[0m\u001b[0;34m\u001b[0m\u001b[0m\n\u001b[1;32m     51\u001b[0m     \u001b[0;32mif\u001b[0m \u001b[0mcache\u001b[0m \u001b[0;32mis\u001b[0m \u001b[0;32mNone\u001b[0m\u001b[0;34m:\u001b[0m\u001b[0;34m\u001b[0m\u001b[0;34m\u001b[0m\u001b[0m\n\u001b[0;32m---> 52\u001b[0;31m         \u001b[0;32mreturn\u001b[0m \u001b[0mgetattr\u001b[0m\u001b[0;34m(\u001b[0m\u001b[0mestimator\u001b[0m\u001b[0;34m,\u001b[0m \u001b[0mmethod\u001b[0m\u001b[0;34m)\u001b[0m\u001b[0;34m(\u001b[0m\u001b[0;34m*\u001b[0m\u001b[0margs\u001b[0m\u001b[0;34m,\u001b[0m \u001b[0;34m**\u001b[0m\u001b[0mkwargs\u001b[0m\u001b[0;34m)\u001b[0m\u001b[0;34m\u001b[0m\u001b[0;34m\u001b[0m\u001b[0m\n\u001b[0m\u001b[1;32m     53\u001b[0m \u001b[0;34m\u001b[0m\u001b[0m\n\u001b[1;32m     54\u001b[0m     \u001b[0;32mtry\u001b[0m\u001b[0;34m:\u001b[0m\u001b[0;34m\u001b[0m\u001b[0;34m\u001b[0m\u001b[0m\n",
            "\u001b[0;32m/usr/local/lib/python3.6/dist-packages/pyGRNN/GRNN.py\u001b[0m in \u001b[0;36mpredict\u001b[0;34m(self, X)\u001b[0m\n\u001b[1;32m    258\u001b[0m \u001b[0;34m\u001b[0m\u001b[0m\n\u001b[1;32m    259\u001b[0m         \u001b[0mKernel_def\u001b[0m\u001b[0;34m=\u001b[0m \u001b[0mgetattr\u001b[0m\u001b[0;34m(\u001b[0m\u001b[0mkernels\u001b[0m\u001b[0;34m,\u001b[0m \u001b[0mself\u001b[0m\u001b[0;34m.\u001b[0m\u001b[0mkernel\u001b[0m\u001b[0;34m)\u001b[0m\u001b[0;34m(\u001b[0m\u001b[0mlength_scale\u001b[0m\u001b[0;34m=\u001b[0m\u001b[0mself\u001b[0m\u001b[0;34m.\u001b[0m\u001b[0msigma\u001b[0m\u001b[0;34m)\u001b[0m\u001b[0;34m\u001b[0m\u001b[0;34m\u001b[0m\u001b[0m\n\u001b[0;32m--> 260\u001b[0;31m         \u001b[0mK\u001b[0m \u001b[0;34m=\u001b[0m \u001b[0mKernel_def\u001b[0m\u001b[0;34m(\u001b[0m\u001b[0mself\u001b[0m\u001b[0;34m.\u001b[0m\u001b[0mX_\u001b[0m\u001b[0;34m,\u001b[0m \u001b[0mX\u001b[0m\u001b[0;34m)\u001b[0m\u001b[0;34m\u001b[0m\u001b[0;34m\u001b[0m\u001b[0m\n\u001b[0m\u001b[1;32m    261\u001b[0m         \u001b[0;31m# If the distances are very high/low, zero-densities must be prevented:\u001b[0m\u001b[0;34m\u001b[0m\u001b[0;34m\u001b[0m\u001b[0;34m\u001b[0m\u001b[0m\n\u001b[1;32m    262\u001b[0m         \u001b[0mK\u001b[0m \u001b[0;34m=\u001b[0m \u001b[0mnp\u001b[0m\u001b[0;34m.\u001b[0m\u001b[0mnan_to_num\u001b[0m\u001b[0;34m(\u001b[0m\u001b[0mK\u001b[0m\u001b[0;34m)\u001b[0m\u001b[0;34m\u001b[0m\u001b[0;34m\u001b[0m\u001b[0m\n",
            "\u001b[0;32m/usr/local/lib/python3.6/dist-packages/sklearn/gaussian_process/kernels.py\u001b[0m in \u001b[0;36m__call__\u001b[0;34m(self, X, Y, eval_gradient)\u001b[0m\n\u001b[1;32m   1296\u001b[0m             dists = cdist(X / length_scale, Y / length_scale,\n\u001b[1;32m   1297\u001b[0m                           metric='sqeuclidean')\n\u001b[0;32m-> 1298\u001b[0;31m             \u001b[0mK\u001b[0m \u001b[0;34m=\u001b[0m \u001b[0mnp\u001b[0m\u001b[0;34m.\u001b[0m\u001b[0mexp\u001b[0m\u001b[0;34m(\u001b[0m\u001b[0;34m-\u001b[0m\u001b[0;36m.5\u001b[0m \u001b[0;34m*\u001b[0m \u001b[0mdists\u001b[0m\u001b[0;34m)\u001b[0m\u001b[0;34m\u001b[0m\u001b[0;34m\u001b[0m\u001b[0m\n\u001b[0m\u001b[1;32m   1299\u001b[0m \u001b[0;34m\u001b[0m\u001b[0m\n\u001b[1;32m   1300\u001b[0m         \u001b[0;32mif\u001b[0m \u001b[0meval_gradient\u001b[0m\u001b[0;34m:\u001b[0m\u001b[0;34m\u001b[0m\u001b[0;34m\u001b[0m\u001b[0m\n",
            "\u001b[0;31mKeyboardInterrupt\u001b[0m: "
          ]
        }
      ]
    },
    {
      "cell_type": "code",
      "metadata": {
        "colab": {
          "base_uri": "https://localhost:8080/"
        },
        "id": "P2WcEqUYoUtS",
        "outputId": "1f6e6e20-21d1-45cc-b392-9abdaf5c666d"
      },
      "source": [
        "print(mse_IGRNN)"
      ],
      "execution_count": 29,
      "outputs": [
        {
          "output_type": "stream",
          "text": [
            "0.019888307250956243\n"
          ],
          "name": "stdout"
        }
      ]
    },
    {
      "cell_type": "code",
      "metadata": {
        "id": "45D1DZ6VojW-",
        "colab": {
          "base_uri": "https://localhost:8080/",
          "height": 478
        },
        "outputId": "e8ea0077-6bb1-48c6-b079-f274864eae97"
      },
      "source": [
        "plt.figure(3)\r\n",
        "Test= plt.plot(y_test)\r\n",
        "Predict = plt.plot(y_pred)\r\n",
        "plt.legend([Predict,Test],[\"Predicted Data\",\"Real Data\"])\r\n",
        "plt.show()"
      ],
      "execution_count": 30,
      "outputs": [
        {
          "output_type": "stream",
          "text": [
            "/usr/local/lib/python3.6/dist-packages/ipykernel_launcher.py:4: UserWarning:\n",
            "\n",
            "Legend does not support [<matplotlib.lines.Line2D object at 0x7fd138d685f8>] instances.\n",
            "A proxy artist may be used instead.\n",
            "See: http://matplotlib.org/users/legend_guide.html#creating-artists-specifically-for-adding-to-the-legend-aka-proxy-artists\n",
            "\n",
            "/usr/local/lib/python3.6/dist-packages/ipykernel_launcher.py:4: UserWarning:\n",
            "\n",
            "Legend does not support [<matplotlib.lines.Line2D object at 0x7fd138d2b860>] instances.\n",
            "A proxy artist may be used instead.\n",
            "See: http://matplotlib.org/users/legend_guide.html#creating-artists-specifically-for-adding-to-the-legend-aka-proxy-artists\n",
            "\n"
          ],
          "name": "stderr"
        },
        {
          "output_type": "display_data",
          "data": {
            "image/png": "[encoded data removed]",
            "text/plain": [
              "<Figure size 432x288 with 1 Axes>"
            ]
          },
          "metadata": {
            "tags": [],
            "needs_background": "light"
          }
        }
      ]
    },
    {
      "cell_type": "code",
      "metadata": {
        "id": "0eD7cYWbpBO1",
        "colab": {
          "base_uri": "https://localhost:8080/",
          "height": 1000
        },
        "outputId": "09fa4a94-5267-423a-a0c2-2cd3efc82db1"
      },
      "source": [
        "! pip install neupy\r\n",
        "from neupy import algorithms\r\n"
      ],
      "execution_count": 32,
      "outputs": [
        {
          "output_type": "stream",
          "text": [
            "Collecting neupy\n",
            "\u001b[?25l  Downloading https://files.pythonhosted.org/packages/21/be/19082cbe9a6c76dd909255341587f0b487cd3e9d32d44debda013d2accd1/neupy-0.8.2-py2.py3-none-any.whl (226kB)\n",
            "\r\u001b[K     |█▌                              | 10kB 26.6MB/s eta 0:00:01\r\u001b[K     |███                             | 20kB 19.9MB/s eta 0:00:01\r\u001b[K     |████▍                           | 30kB 15.2MB/s eta 0:00:01\r\u001b[K     |█████▉                          | 40kB 13.5MB/s eta 0:00:01\r\u001b[K     |███████▎                        | 51kB 8.0MB/s eta 0:00:01\r\u001b[K     |████████▊                       | 61kB 8.2MB/s eta 0:00:01\r\u001b[K     |██████████▏                     | 71kB 8.6MB/s eta 0:00:01\r\u001b[K     |███████████▋                    | 81kB 9.6MB/s eta 0:00:01\r\u001b[K     |█████████████                   | 92kB 9.0MB/s eta 0:00:01\r\u001b[K     |██████████████▌                 | 102kB 7.8MB/s eta 0:00:01\r\u001b[K     |████████████████                | 112kB 7.8MB/s eta 0:00:01\r\u001b[K     |█████████████████▍              | 122kB 7.8MB/s eta 0:00:01\r\u001b[K     |██████████████████▉             | 133kB 7.8MB/s eta 0:00:01\r\u001b[K     |████████████████████▎           | 143kB 7.8MB/s eta 0:00:01\r\u001b[K     |█████████████████████▊          | 153kB 7.8MB/s eta 0:00:01\r\u001b[K     |███████████████████████▏        | 163kB 7.8MB/s eta 0:00:01\r\u001b[K     |████████████████████████▋       | 174kB 7.8MB/s eta 0:00:01\r\u001b[K     |██████████████████████████      | 184kB 7.8MB/s eta 0:00:01\r\u001b[K     |███████████████████████████▌    | 194kB 7.8MB/s eta 0:00:01\r\u001b[K     |█████████████████████████████   | 204kB 7.8MB/s eta 0:00:01\r\u001b[K     |██████████████████████████████▍ | 215kB 7.8MB/s eta 0:00:01\r\u001b[K     |███████████████████████████████▉| 225kB 7.8MB/s eta 0:00:01\r\u001b[K     |████████████████████████████████| 235kB 7.8MB/s \n",
            "\u001b[?25hRequirement already satisfied: h5py in /usr/local/lib/python3.6/dist-packages (from neupy) (2.10.0)\n",
            "Collecting progressbar2==3.34.3\n",
            "  Downloading https://files.pythonhosted.org/packages/87/31/b984e17bcc7491c1baeda3906fe3abc14cb5cd5dbd046ab46d9fc7a2edfd/progressbar2-3.34.3-py2.py3-none-any.whl\n",
            "Requirement already satisfied: numpy>=1.13.3 in /usr/local/lib/python3.6/dist-packages (from neupy) (1.19.4)\n",
            "Collecting graphviz==0.5.1\n",
            "  Downloading https://files.pythonhosted.org/packages/55/8d/18e45d3f57adfde20ac831a5ba7144b9e643185e05eb0a02b6f22d076752/graphviz-0.5.1-py2.py3-none-any.whl\n",
            "Requirement already satisfied: matplotlib>=1.5.1 in /usr/local/lib/python3.6/dist-packages (from neupy) (3.2.2)\n",
            "Requirement already satisfied: scipy>=0.19.0 in /usr/local/lib/python3.6/dist-packages (from neupy) (1.4.1)\n",
            "Collecting tensorflow<1.14.0,>=1.10.1\n",
            "\u001b[?25l  Downloading https://files.pythonhosted.org/packages/db/d3/651f95288a6cd9094f7411cdd90ef12a3d01a268009e0e3cd66b5c8d65bd/tensorflow-1.13.2-cp36-cp36m-manylinux1_x86_64.whl (92.6MB)\n",
            "\u001b[K     |████████████████████████████████| 92.6MB 115kB/s \n",
            "\u001b[?25hRequirement already satisfied: six in /usr/local/lib/python3.6/dist-packages (from h5py->neupy) (1.15.0)\n",
            "Requirement already satisfied: python-utils>=2.1.0 in /usr/local/lib/python3.6/dist-packages (from progressbar2==3.34.3->neupy) (2.4.0)\n",
            "Requirement already satisfied: cycler>=0.10 in /usr/local/lib/python3.6/dist-packages (from matplotlib>=1.5.1->neupy) (0.10.0)\n",
            "Requirement already satisfied: python-dateutil>=2.1 in /usr/local/lib/python3.6/dist-packages (from matplotlib>=1.5.1->neupy) (2.8.1)\n",
            "Requirement already satisfied: kiwisolver>=1.0.1 in /usr/local/lib/python3.6/dist-packages (from matplotlib>=1.5.1->neupy) (1.3.1)\n",
            "Requirement already satisfied: pyparsing!=2.0.4,!=2.1.2,!=2.1.6,>=2.0.1 in /usr/local/lib/python3.6/dist-packages (from matplotlib>=1.5.1->neupy) (2.4.7)\n",
            "Requirement already satisfied: wheel>=0.26 in /usr/local/lib/python3.6/dist-packages (from tensorflow<1.14.0,>=1.10.1->neupy) (0.36.2)\n",
            "Collecting tensorboard<1.14.0,>=1.13.0\n",
            "\u001b[?25l  Downloading https://files.pythonhosted.org/packages/0f/39/bdd75b08a6fba41f098b6cb091b9e8c7a80e1b4d679a581a0ccd17b10373/tensorboard-1.13.1-py3-none-any.whl (3.2MB)\n",
            "\u001b[K     |████████████████████████████████| 3.2MB 53.0MB/s \n",
            "\u001b[?25hRequirement already satisfied: protobuf>=3.6.1 in /usr/local/lib/python3.6/dist-packages (from tensorflow<1.14.0,>=1.10.1->neupy) (3.12.4)\n",
            "Requirement already satisfied: absl-py>=0.1.6 in /usr/local/lib/python3.6/dist-packages (from tensorflow<1.14.0,>=1.10.1->neupy) (0.10.0)\n",
            "Requirement already satisfied: keras-preprocessing>=1.0.5 in /usr/local/lib/python3.6/dist-packages (from tensorflow<1.14.0,>=1.10.1->neupy) (1.1.2)\n",
            "Collecting keras-applications>=1.0.6\n",
            "\u001b[?25l  Downloading https://files.pythonhosted.org/packages/71/e3/19762fdfc62877ae9102edf6342d71b28fbfd9dea3d2f96a882ce099b03f/Keras_Applications-1.0.8-py3-none-any.whl (50kB)\n",
            "\u001b[K     |████████████████████████████████| 51kB 10.2MB/s \n",
            "\u001b[?25hCollecting tensorflow-estimator<1.14.0rc0,>=1.13.0\n",
            "\u001b[?25l  Downloading https://files.pythonhosted.org/packages/bb/48/13f49fc3fa0fdf916aa1419013bb8f2ad09674c275b4046d5ee669a46873/tensorflow_estimator-1.13.0-py2.py3-none-any.whl (367kB)\n",
            "\u001b[K     |████████████████████████████████| 368kB 57.2MB/s \n",
            "\u001b[?25hRequirement already satisfied: gast>=0.2.0 in /usr/local/lib/python3.6/dist-packages (from tensorflow<1.14.0,>=1.10.1->neupy) (0.3.3)\n",
            "Requirement already satisfied: grpcio>=1.8.6 in /usr/local/lib/python3.6/dist-packages (from tensorflow<1.14.0,>=1.10.1->neupy) (1.32.0)\n",
            "Requirement already satisfied: termcolor>=1.1.0 in /usr/local/lib/python3.6/dist-packages (from tensorflow<1.14.0,>=1.10.1->neupy) (1.1.0)\n",
            "Requirement already satisfied: astor>=0.6.0 in /usr/local/lib/python3.6/dist-packages (from tensorflow<1.14.0,>=1.10.1->neupy) (0.8.1)\n",
            "Requirement already satisfied: werkzeug>=0.11.15 in /usr/local/lib/python3.6/dist-packages (from tensorboard<1.14.0,>=1.13.0->tensorflow<1.14.0,>=1.10.1->neupy) (1.0.1)\n",
            "Requirement already satisfied: markdown>=2.6.8 in /usr/local/lib/python3.6/dist-packages (from tensorboard<1.14.0,>=1.13.0->tensorflow<1.14.0,>=1.10.1->neupy) (3.3.3)\n",
            "Requirement already satisfied: setuptools in /usr/local/lib/python3.6/dist-packages (from protobuf>=3.6.1->tensorflow<1.14.0,>=1.10.1->neupy) (50.3.2)\n",
            "Collecting mock>=2.0.0\n",
            "  Downloading https://files.pythonhosted.org/packages/5c/03/b7e605db4a57c0f6fba744b11ef3ddf4ddebcada35022927a2b5fc623fdf/mock-4.0.3-py3-none-any.whl\n",
            "Requirement already satisfied: importlib-metadata; python_version < \"3.8\" in /usr/local/lib/python3.6/dist-packages (from markdown>=2.6.8->tensorboard<1.14.0,>=1.13.0->tensorflow<1.14.0,>=1.10.1->neupy) (3.3.0)\n",
            "Requirement already satisfied: typing-extensions>=3.6.4; python_version < \"3.8\" in /usr/local/lib/python3.6/dist-packages (from importlib-metadata; python_version < \"3.8\"->markdown>=2.6.8->tensorboard<1.14.0,>=1.13.0->tensorflow<1.14.0,>=1.10.1->neupy) (3.7.4.3)\n",
            "Requirement already satisfied: zipp>=0.5 in /usr/local/lib/python3.6/dist-packages (from importlib-metadata; python_version < \"3.8\"->markdown>=2.6.8->tensorboard<1.14.0,>=1.13.0->tensorflow<1.14.0,>=1.10.1->neupy) (3.4.0)\n",
            "Installing collected packages: progressbar2, graphviz, tensorboard, keras-applications, mock, tensorflow-estimator, tensorflow, neupy\n",
            "  Found existing installation: progressbar2 3.38.0\n",
            "    Uninstalling progressbar2-3.38.0:\n",
            "      Successfully uninstalled progressbar2-3.38.0\n",
            "  Found existing installation: graphviz 0.10.1\n",
            "    Uninstalling graphviz-0.10.1:\n",
            "      Successfully uninstalled graphviz-0.10.1\n",
            "  Found existing installation: tensorboard 2.4.0\n",
            "    Uninstalling tensorboard-2.4.0:\n",
            "      Successfully uninstalled tensorboard-2.4.0\n",
            "  Found existing installation: tensorflow-estimator 2.4.0\n",
            "    Uninstalling tensorflow-estimator-2.4.0:\n",
            "      Successfully uninstalled tensorflow-estimator-2.4.0\n",
            "  Found existing installation: tensorflow 2.4.0\n",
            "    Uninstalling tensorflow-2.4.0:\n",
            "      Successfully uninstalled tensorflow-2.4.0\n",
            "Successfully installed graphviz-0.5.1 keras-applications-1.0.8 mock-4.0.3 neupy-0.8.2 progressbar2-3.34.3 tensorboard-1.13.1 tensorflow-1.13.2 tensorflow-estimator-1.13.0\n"
          ],
          "name": "stdout"
        },
        {
          "output_type": "display_data",
          "data": {
            "application/vnd.colab-display-data+json": {
              "pip_warning": {
                "packages": [
                  "tensorboard",
                  "tensorflow"
                ]
              }
            }
          },
          "metadata": {
            "tags": []
          }
        },
        {
          "output_type": "error",
          "ename": "NameError",
          "evalue": "ignored",
          "traceback": [
            "\u001b[0;31m---------------------------------------------------------------------------\u001b[0m",
            "\u001b[0;31mNameError\u001b[0m                                 Traceback (most recent call last)",
            "\u001b[0;32m<ipython-input-32-eef198fcd8d7>\u001b[0m in \u001b[0;36m<module>\u001b[0;34m()\u001b[0m\n\u001b[1;32m      2\u001b[0m \u001b[0;32mfrom\u001b[0m \u001b[0mneupy\u001b[0m \u001b[0;32mimport\u001b[0m \u001b[0malgorithms\u001b[0m\u001b[0;34m\u001b[0m\u001b[0;34m\u001b[0m\u001b[0m\n\u001b[1;32m      3\u001b[0m \u001b[0mnw\u001b[0m \u001b[0;34m=\u001b[0m \u001b[0malgorithms\u001b[0m\u001b[0;34m.\u001b[0m\u001b[0mGRNN\u001b[0m\u001b[0;34m(\u001b[0m\u001b[0mstd\u001b[0m\u001b[0;34m=\u001b[0m\u001b[0;36m0.1\u001b[0m\u001b[0;34m,\u001b[0m \u001b[0mverbose\u001b[0m\u001b[0;34m=\u001b[0m\u001b[0;32mFalse\u001b[0m\u001b[0;34m)\u001b[0m\u001b[0;34m\u001b[0m\u001b[0;34m\u001b[0m\u001b[0m\n\u001b[0;32m----> 4\u001b[0;31m \u001b[0mnw\u001b[0m\u001b[0;34m.\u001b[0m\u001b[0mtrain\u001b[0m\u001b[0;34m(\u001b[0m\u001b[0mx_train\u001b[0m\u001b[0;34m,\u001b[0m \u001b[0my_train\u001b[0m\u001b[0;34m)\u001b[0m\u001b[0;34m\u001b[0m\u001b[0;34m\u001b[0m\u001b[0m\n\u001b[0m\u001b[1;32m      5\u001b[0m \u001b[0my_predicted\u001b[0m \u001b[0;34m=\u001b[0m \u001b[0mnw\u001b[0m\u001b[0;34m.\u001b[0m\u001b[0mpredict\u001b[0m\u001b[0;34m(\u001b[0m\u001b[0mx_test\u001b[0m\u001b[0;34m)\u001b[0m\u001b[0;34m\u001b[0m\u001b[0;34m\u001b[0m\u001b[0m\n\u001b[1;32m      6\u001b[0m \u001b[0mmse\u001b[0m \u001b[0;34m=\u001b[0m \u001b[0mnp\u001b[0m\u001b[0;34m.\u001b[0m\u001b[0mmean\u001b[0m\u001b[0;34m(\u001b[0m\u001b[0;34m(\u001b[0m\u001b[0my_predicted\u001b[0m \u001b[0;34m-\u001b[0m \u001b[0my_test\u001b[0m\u001b[0;34m)\u001b[0m \u001b[0;34m**\u001b[0m \u001b[0;36m2\u001b[0m\u001b[0;34m)\u001b[0m\u001b[0;34m\u001b[0m\u001b[0;34m\u001b[0m\u001b[0m\n",
            "\u001b[0;31mNameError\u001b[0m: name 'x_train' is not defined"
          ]
        }
      ]
    },
    {
      "cell_type": "code",
      "metadata": {
        "colab": {
          "base_uri": "https://localhost:8080/"
        },
        "id": "Q2vHoG9Nfc5_",
        "outputId": "6ddcb088-cf11-478b-cee5-862ca00285ad"
      },
      "source": [
        "nw = algorithms.GRNN(std=0.1, verbose=False)\r\n",
        "nw.train(X_train, y_train)\r\n",
        "y_predicted = nw.predict(X_test)\r\n",
        "mse = np.mean((y_predicted - y_test) ** 2)\r\n",
        "mse"
      ],
      "execution_count": 35,
      "outputs": [
        {
          "output_type": "execute_result",
          "data": {
            "text/plain": [
              "0.005787825932792448"
            ]
          },
          "metadata": {
            "tags": []
          },
          "execution_count": 35
        }
      ]
    },
    {
      "cell_type": "code",
      "metadata": {
        "colab": {
          "base_uri": "https://localhost:8080/",
          "height": 478
        },
        "id": "GjEq_usLgDfy",
        "outputId": "b5536ff2-7d3d-4002-be9d-797ffaf5be57"
      },
      "source": [
        "plt.figure(3)\r\n",
        "Test= plt.plot(y_test)\r\n",
        "Predict = plt.plot(y_predicted)\r\n",
        "plt.legend([Predict,Test],[\"Predicted Data\",\"Real Data\"])\r\n",
        "plt.show()"
      ],
      "execution_count": 36,
      "outputs": [
        {
          "output_type": "stream",
          "text": [
            "/usr/local/lib/python3.6/dist-packages/ipykernel_launcher.py:4: UserWarning:\n",
            "\n",
            "Legend does not support [<matplotlib.lines.Line2D object at 0x7fd138940eb8>] instances.\n",
            "A proxy artist may be used instead.\n",
            "See: http://matplotlib.org/users/legend_guide.html#creating-artists-specifically-for-adding-to-the-legend-aka-proxy-artists\n",
            "\n",
            "/usr/local/lib/python3.6/dist-packages/ipykernel_launcher.py:4: UserWarning:\n",
            "\n",
            "Legend does not support [<matplotlib.lines.Line2D object at 0x7fd1388e4630>] instances.\n",
            "A proxy artist may be used instead.\n",
            "See: http://matplotlib.org/users/legend_guide.html#creating-artists-specifically-for-adding-to-the-legend-aka-proxy-artists\n",
            "\n"
          ],
          "name": "stderr"
        },
        {
          "output_type": "display_data",
          "data": {
            "image/png": "[encoded data removed]",
            "text/plain": [
              "<Figure size 432x288 with 1 Axes>"
            ]
          },
          "metadata": {
            "tags": [],
            "needs_background": "light"
          }
        }
      ]
    },
    {
      "cell_type": "markdown",
      "metadata": {
        "id": "6y-dxRQtiMK4"
      },
      "source": [
        "**RBFNN:**\r\n",
        "\r\n",
        "the Gaussians have different colors and are weighted differently. When we take the sum, we get a continuous function! To do this, we need to know where to place the Gaussian centers c_j and their standard deviations \\sigma_j.\r\n",
        "\r\n",
        "We can use k-means clustering on our input data to figure out where to place the Gaussians. The reasoning behind this is that we want our Gaussians to “span” the largest clusters of data since they have that bell-curve shape.\r\n",
        "\r\n",
        "The next step is figuring out what the standard deviations should be. There are two approaches we can take: set the standard deviation to be that of the points assigned to a particular cluster c_j or we can use a single standard deviation for all clusters \\sigma_j = \\sigma \\forall j where \\sigma=\\frac{d_\\text{max}}{\\sqrt{2k}} where d_\\text{max} is the maximum distance between any two cluster centers. and k is the number of cluster centers.\r\n",
        "\r\n",
        "But wait, how many Gaussians do we use? Well that’s a hyperparameter called the number of bases or kernels k.\r\n",
        "\r\n",
        "Backpropagation for RBF nets\r\n",
        "K-means clustering is used to determine the centers c_j for each of the radial basis functions \\varphi_j. Given an input x, an RBF network produces a weighted sum output.\r\n",
        "\r\n",
        "  \\begin{equation*} F(x)=\\displaystyle\\sum_{j=1}^k w_j\\varphi_j(x, c_j) + b \\end{equation*}\r\n",
        "where w_j are the weights, b is the bias, k is the number of bases/clusters/centers, and \\varphi_j(\\cdot) is the Gaussian RBF:\r\n",
        "\r\n",
        "  \\begin{equation*} \\varphi_j(x, c_j) = \\exp\\left(\\displaystyle\\frac{-||x-c_j||^2}{2\\sigma_j^2} \\right) \\end{equation*}\r\n",
        "There are other kinds of RBFs, but we’ll stick with our Gaussian RBF. (Notice that we don’t have the constant up front, so our Gaussian is not normalized, but that’s ok since we’re not using it as a probability distribution!)\r\n",
        "\r\n",
        "Using these definitions, we can derive the update rules for w_j and b for gradient descent. We use the quadratic cost function to minimize.\r\n",
        "\r\n",
        "  \\begin{equation*} C = \\displaystyle\\sum_{i=1}^N (y^{(i)}-F(x^{(i)}))^2 \\end{equation*}\r\n",
        "We can derive the update rule for w_j by computing the partial derivative of the cost function with respect to all of the w_j.\r\n",
        "\r\n",
        "  \\begin{align*} \\displaystyle\\frac{\\partial C}{\\partial w_j} &= \\displaystyle\\frac{\\partial C}{\\partial F} \\displaystyle\\frac{\\partial F}{\\partial w_j}\\\\ &=\\displaystyle\\frac{\\partial }{\\partial F}[\\displaystyle\\sum_{i=1}^N (y^{(i)}-F(x^{(i)}))^2]~\\cdot~\\displaystyle\\frac{\\partial }{\\partial w_j}[\\displaystyle\\sum_{j=0}^K w_j\\varphi_j(x,c_j) + b]\\\\ &=-(y^{(i)}-F(x^{(i)}))~\\cdot~\\varphi_j(x,c_j)\\\\ w_j &\\gets w_j + \\eta~(y^{(i)}-F(x^{(i)}))~\\varphi_j(x,c_j) \\end{align*}\r\n",
        "Similarly, we can derive the update rules for b by computing the partial derivative of the cost function with respect to b.\r\n",
        "\r\n",
        "  \\begin{align*} \\displaystyle\\frac{\\partial C}{\\partial b} &= \\displaystyle\\frac{\\partial C}{\\partial F} \\displaystyle\\frac{\\partial F}{\\partial b}\\\\ &=\\displaystyle\\frac{\\partial }{\\partial F}[\\displaystyle\\sum_{i=1}^N (y^{(i)}-F(x^{(i)}))^2]~\\cdot~\\displaystyle\\frac{\\partial }{\\partial b}[\\displaystyle\\sum_{j=0}^K w_j\\varphi_j(x,c_j) + b]\\\\ &=-(y^{(i)}-F(x^{(i)}))\\cdot 1\\\\ b &\\gets b + \\eta~(y^{(i)}-F(x^{(i)})) \\end{align*}\r\n",
        "Now we have our backpropagation rules!\r\n",
        "\r\n",
        "----CODING: ------"
      ]
    },
    {
      "cell_type": "code",
      "metadata": {
        "id": "pJ4FpkLLkjEI"
      },
      "source": [
        "\r\n",
        "import numpy as np\r\n",
        "\r\n",
        "\r\n",
        "class RBFN(object):\r\n",
        "\r\n",
        "    def __init__(self, hidden_shape, sigma=1.0):\r\n",
        "        \"\"\" radial basis function network\r\n",
        "        # Arguments\r\n",
        "            input_shape: dimension of the input data\r\n",
        "            e.g. scalar functions have should have input_dimension = 1\r\n",
        "            hidden_shape: the number\r\n",
        "            hidden_shape: number of hidden radial basis functions,\r\n",
        "            also, number of centers.\r\n",
        "        \"\"\"\r\n",
        "        self.hidden_shape = hidden_shape\r\n",
        "        self.sigma = sigma\r\n",
        "        self.centers = None\r\n",
        "        self.weights = None\r\n",
        "\r\n",
        "    def _kernel_function(self, center, data_point):\r\n",
        "        return np.exp(-self.sigma*np.linalg.norm(center-data_point)**2)\r\n",
        "\r\n",
        "    def _calculate_interpolation_matrix(self, X):\r\n",
        "        \"\"\" Calculates interpolation matrix using a kernel_function\r\n",
        "        # Arguments\r\n",
        "            X: Training data\r\n",
        "        # Input shape\r\n",
        "            (num_data_samples, input_shape)\r\n",
        "        # Returns\r\n",
        "            G: Interpolation matrix\r\n",
        "        \"\"\"\r\n",
        "        G = np.zeros((len(X), self.hidden_shape))\r\n",
        "        for data_point_arg, data_point in enumerate(X):\r\n",
        "            for center_arg, center in enumerate(self.centers):\r\n",
        "                G[data_point_arg, center_arg] = self._kernel_function(\r\n",
        "                        center, data_point)\r\n",
        "        return G\r\n",
        "\r\n",
        "    def _select_centers(self, X):\r\n",
        "        random_args = np.random.choice(len(X), self.hidden_shape)\r\n",
        "        centers = X[random_args]\r\n",
        "        return centers\r\n",
        "\r\n",
        "    def fit(self, X, Y):\r\n",
        "        \"\"\" Fits weights using linear regression\r\n",
        "        # Arguments\r\n",
        "            X: training samples\r\n",
        "            Y: targets\r\n",
        "        # Input shape\r\n",
        "            X: (num_data_samples, input_shape)\r\n",
        "            Y: (num_data_samples, input_shape)\r\n",
        "        \"\"\"\r\n",
        "        self.centers = self._select_centers(X)\r\n",
        "        G = self._calculate_interpolation_matrix(X)\r\n",
        "        self.weights = np.dot(np.linalg.pinv(G), Y)\r\n",
        "\r\n",
        "    def predict(self, X):\r\n",
        "        \"\"\"\r\n",
        "        # Arguments\r\n",
        "            X: test data\r\n",
        "        # Input shape\r\n",
        "            (num_test_samples, input_shape)\r\n",
        "        \"\"\"\r\n",
        "        G = self._calculate_interpolation_matrix(X)\r\n",
        "        predictions = np.dot(G, self.weights)\r\n",
        "        return predictions"
      ],
      "execution_count": 49,
      "outputs": []
    },
    {
      "cell_type": "code",
      "metadata": {
        "colab": {
          "base_uri": "https://localhost:8080/"
        },
        "id": "Bl9a6i_Xjbsw",
        "outputId": "ed3344cb-ee37-4f0a-913e-3161a9665777"
      },
      "source": [
        "# fitting RBF-Network with data\r\n",
        "model = RBFN(hidden_shape=10, sigma=1.)\r\n",
        "model.fit(X_train, y_train)\r\n",
        "y_pred = model.predict(X_test)\r\n",
        "\r\n",
        "mse = np.mean((y_pred - y_test) ** 2)\r\n",
        "mse"
      ],
      "execution_count": 71,
      "outputs": [
        {
          "output_type": "execute_result",
          "data": {
            "text/plain": [
              "0.0051655255330723005"
            ]
          },
          "metadata": {
            "tags": []
          },
          "execution_count": 71
        }
      ]
    },
    {
      "cell_type": "code",
      "metadata": {
        "colab": {
          "base_uri": "https://localhost:8080/",
          "height": 478
        },
        "id": "GfugA6hijvsA",
        "outputId": "fd575164-bd9c-420f-df2b-b5dc92d6d485"
      },
      "source": [
        "plt.figure(3)\r\n",
        "Test= plt.plot(y_test)\r\n",
        "Predict = plt.plot(y_pred)\r\n",
        "plt.legend([Predict,Test],[\"Predicted Data\",\"Real Data\"])\r\n",
        "plt.show()"
      ],
      "execution_count": 72,
      "outputs": [
        {
          "output_type": "stream",
          "text": [
            "/usr/local/lib/python3.6/dist-packages/ipykernel_launcher.py:4: UserWarning:\n",
            "\n",
            "Legend does not support [<matplotlib.lines.Line2D object at 0x7fd137e32208>] instances.\n",
            "A proxy artist may be used instead.\n",
            "See: http://matplotlib.org/users/legend_guide.html#creating-artists-specifically-for-adding-to-the-legend-aka-proxy-artists\n",
            "\n",
            "/usr/local/lib/python3.6/dist-packages/ipykernel_launcher.py:4: UserWarning:\n",
            "\n",
            "Legend does not support [<matplotlib.lines.Line2D object at 0x7fd137ec28d0>] instances.\n",
            "A proxy artist may be used instead.\n",
            "See: http://matplotlib.org/users/legend_guide.html#creating-artists-specifically-for-adding-to-the-legend-aka-proxy-artists\n",
            "\n"
          ],
          "name": "stderr"
        },
        {
          "output_type": "display_data",
          "data": {
            "image/png": "[encoded data removed]",
            "text/plain": [
              "<Figure size 432x288 with 1 Axes>"
            ]
          },
          "metadata": {
            "tags": [],
            "needs_background": "light"
          }
        }
      ]
    },
    {
      "cell_type": "markdown",
      "metadata": {
        "id": "viuI1ZMBmsaU"
      },
      "source": [
        "Not: RBF networks are similar to K-Means clustering and PNN/GRNN networks. The main difference is that PNN/GRNN networks have one neuron for each point in the training file, whereas RBF networks have a variable number of neurons that is usually much less than the number of training points. For problems with small to medium size training sets, PNN/GRNN networks are usually more accurate than RBF networks, but PNN/GRNN networks are impractical for large training sets."
      ]
    },
    {
      "cell_type": "code",
      "metadata": {
        "id": "fP5pQNnOmzNY"
      },
      "source": [
        ""
      ],
      "execution_count": null,
      "outputs": []
    }
  ]
}